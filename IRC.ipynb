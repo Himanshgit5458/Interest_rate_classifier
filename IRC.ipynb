{
  "nbformat": 4,
  "nbformat_minor": 0,
  "metadata": {
    "colab": {
      "name": "IRC.ipynb",
      "provenance": [],
      "collapsed_sections": []
    },
    "kernelspec": {
      "name": "python3",
      "display_name": "Python 3"
    },
    "language_info": {
      "name": "python"
    }
  },
  "cells": [
    {
      "cell_type": "markdown",
      "source": [
        "**Motivation :** We bought a house on loan in 2019. So When i went to the bank for the loan approval, He was asking me for the information like how many propery do we have, The loan amount, Salary and many more. So I was curious how these things actually happened in backend. So I started this project."
      ],
      "metadata": {
        "id": "yRSxSL_YgEAf"
      }
    },
    {
      "cell_type": "markdown",
      "source": [
        "## **Problem Statement**\n",
        "\n",
        "\n",
        "Have you ever wondered how lenders use various factors such as credit score, annual income, the loan amount approved, tenure, debt-to-income ratio etc. and select your interest rates?\n",
        "\n",
        "The process, defined as ‘risk-based pricing’, uses a sophisticated algorithm that leverages different determining factors of a loan applicant. Selection of significant factors will help develop a prediction algorithm which can estimate loan interest rates based on clients’ information. On one hand, knowing the factors will help consumers and borrowers to increase their credit worthiness and place themselves in a better position to negotiate for getting a lower interest rate. On the other hand, this will help lending companies to get an immediate fixed interest rate estimation based on clients information. Here, your goal is to use a training dataset to predict the loan rate category (1 / 2 / 3) that will be assigned to each loan in our test set.\n",
        "\n",
        "You can use any combination of the features in the dataset to make your loan rate category predictions. Some features will be easier to use than others."
      ],
      "metadata": {
        "id": "4MBTBf-z7hrJ"
      }
    },
    {
      "cell_type": "code",
      "execution_count": null,
      "metadata": {
        "id": "k5MZ1o7gfjv4"
      },
      "outputs": [],
      "source": [
        "import pandas as pd\n",
        "import numpy as np\n",
        "import seaborn as sns\n",
        "import matplotlib.pyplot as plt\n",
        "\n",
        "import warnings\n",
        "warnings.filterwarnings(\"ignore\") "
      ]
    },
    {
      "cell_type": "code",
      "source": [
        "data=pd.read_csv(\"/content/train_fNxu4vz.csv\")\n",
        "data.head()"
      ],
      "metadata": {
        "colab": {
          "base_uri": "https://localhost:8080/",
          "height": 339
        },
        "id": "mf2eQ35ofozQ",
        "outputId": "dce5b133-af12-4f61-e8bf-fbc9712a24d5"
      },
      "execution_count": null,
      "outputs": [
        {
          "output_type": "execute_result",
          "data": {
            "text/html": [
              "\n",
              "  <div id=\"df-4e0cdf15-8532-4e9c-b16f-9c4d0cd3a167\">\n",
              "    <div class=\"colab-df-container\">\n",
              "      <div>\n",
              "<style scoped>\n",
              "    .dataframe tbody tr th:only-of-type {\n",
              "        vertical-align: middle;\n",
              "    }\n",
              "\n",
              "    .dataframe tbody tr th {\n",
              "        vertical-align: top;\n",
              "    }\n",
              "\n",
              "    .dataframe thead th {\n",
              "        text-align: right;\n",
              "    }\n",
              "</style>\n",
              "<table border=\"1\" class=\"dataframe\">\n",
              "  <thead>\n",
              "    <tr style=\"text-align: right;\">\n",
              "      <th></th>\n",
              "      <th>Loan_ID</th>\n",
              "      <th>Loan_Amount_Requested</th>\n",
              "      <th>Length_Employed</th>\n",
              "      <th>Home_Owner</th>\n",
              "      <th>Annual_Income</th>\n",
              "      <th>Income_Verified</th>\n",
              "      <th>Purpose_Of_Loan</th>\n",
              "      <th>Debt_To_Income</th>\n",
              "      <th>Inquiries_Last_6Mo</th>\n",
              "      <th>Months_Since_Deliquency</th>\n",
              "      <th>Number_Open_Accounts</th>\n",
              "      <th>Total_Accounts</th>\n",
              "      <th>Gender</th>\n",
              "      <th>Interest_Rate</th>\n",
              "    </tr>\n",
              "  </thead>\n",
              "  <tbody>\n",
              "    <tr>\n",
              "      <th>0</th>\n",
              "      <td>10000001</td>\n",
              "      <td>7,000</td>\n",
              "      <td>&lt; 1 year</td>\n",
              "      <td>Rent</td>\n",
              "      <td>68000.0</td>\n",
              "      <td>not verified</td>\n",
              "      <td>car</td>\n",
              "      <td>18.37</td>\n",
              "      <td>0</td>\n",
              "      <td>NaN</td>\n",
              "      <td>9</td>\n",
              "      <td>14</td>\n",
              "      <td>Female</td>\n",
              "      <td>1</td>\n",
              "    </tr>\n",
              "    <tr>\n",
              "      <th>1</th>\n",
              "      <td>10000002</td>\n",
              "      <td>30,000</td>\n",
              "      <td>4 years</td>\n",
              "      <td>Mortgage</td>\n",
              "      <td>NaN</td>\n",
              "      <td>VERIFIED - income</td>\n",
              "      <td>debt_consolidation</td>\n",
              "      <td>14.93</td>\n",
              "      <td>0</td>\n",
              "      <td>17.0</td>\n",
              "      <td>12</td>\n",
              "      <td>24</td>\n",
              "      <td>Female</td>\n",
              "      <td>3</td>\n",
              "    </tr>\n",
              "    <tr>\n",
              "      <th>2</th>\n",
              "      <td>10000003</td>\n",
              "      <td>24,725</td>\n",
              "      <td>7 years</td>\n",
              "      <td>Mortgage</td>\n",
              "      <td>75566.4</td>\n",
              "      <td>VERIFIED - income source</td>\n",
              "      <td>debt_consolidation</td>\n",
              "      <td>15.88</td>\n",
              "      <td>0</td>\n",
              "      <td>NaN</td>\n",
              "      <td>12</td>\n",
              "      <td>16</td>\n",
              "      <td>Male</td>\n",
              "      <td>3</td>\n",
              "    </tr>\n",
              "    <tr>\n",
              "      <th>3</th>\n",
              "      <td>10000004</td>\n",
              "      <td>16,000</td>\n",
              "      <td>&lt; 1 year</td>\n",
              "      <td>NaN</td>\n",
              "      <td>56160.0</td>\n",
              "      <td>VERIFIED - income source</td>\n",
              "      <td>debt_consolidation</td>\n",
              "      <td>14.34</td>\n",
              "      <td>3</td>\n",
              "      <td>NaN</td>\n",
              "      <td>16</td>\n",
              "      <td>22</td>\n",
              "      <td>Male</td>\n",
              "      <td>3</td>\n",
              "    </tr>\n",
              "    <tr>\n",
              "      <th>4</th>\n",
              "      <td>10000005</td>\n",
              "      <td>17,000</td>\n",
              "      <td>8 years</td>\n",
              "      <td>Own</td>\n",
              "      <td>96000.0</td>\n",
              "      <td>VERIFIED - income source</td>\n",
              "      <td>debt_consolidation</td>\n",
              "      <td>22.17</td>\n",
              "      <td>1</td>\n",
              "      <td>NaN</td>\n",
              "      <td>19</td>\n",
              "      <td>30</td>\n",
              "      <td>Female</td>\n",
              "      <td>1</td>\n",
              "    </tr>\n",
              "  </tbody>\n",
              "</table>\n",
              "</div>\n",
              "      <button class=\"colab-df-convert\" onclick=\"convertToInteractive('df-4e0cdf15-8532-4e9c-b16f-9c4d0cd3a167')\"\n",
              "              title=\"Convert this dataframe to an interactive table.\"\n",
              "              style=\"display:none;\">\n",
              "        \n",
              "  <svg xmlns=\"http://www.w3.org/2000/svg\" height=\"24px\"viewBox=\"0 0 24 24\"\n",
              "       width=\"24px\">\n",
              "    <path d=\"M0 0h24v24H0V0z\" fill=\"none\"/>\n",
              "    <path d=\"M18.56 5.44l.94 2.06.94-2.06 2.06-.94-2.06-.94-.94-2.06-.94 2.06-2.06.94zm-11 1L8.5 8.5l.94-2.06 2.06-.94-2.06-.94L8.5 2.5l-.94 2.06-2.06.94zm10 10l.94 2.06.94-2.06 2.06-.94-2.06-.94-.94-2.06-.94 2.06-2.06.94z\"/><path d=\"M17.41 7.96l-1.37-1.37c-.4-.4-.92-.59-1.43-.59-.52 0-1.04.2-1.43.59L10.3 9.45l-7.72 7.72c-.78.78-.78 2.05 0 2.83L4 21.41c.39.39.9.59 1.41.59.51 0 1.02-.2 1.41-.59l7.78-7.78 2.81-2.81c.8-.78.8-2.07 0-2.86zM5.41 20L4 18.59l7.72-7.72 1.47 1.35L5.41 20z\"/>\n",
              "  </svg>\n",
              "      </button>\n",
              "      \n",
              "  <style>\n",
              "    .colab-df-container {\n",
              "      display:flex;\n",
              "      flex-wrap:wrap;\n",
              "      gap: 12px;\n",
              "    }\n",
              "\n",
              "    .colab-df-convert {\n",
              "      background-color: #E8F0FE;\n",
              "      border: none;\n",
              "      border-radius: 50%;\n",
              "      cursor: pointer;\n",
              "      display: none;\n",
              "      fill: #1967D2;\n",
              "      height: 32px;\n",
              "      padding: 0 0 0 0;\n",
              "      width: 32px;\n",
              "    }\n",
              "\n",
              "    .colab-df-convert:hover {\n",
              "      background-color: #E2EBFA;\n",
              "      box-shadow: 0px 1px 2px rgba(60, 64, 67, 0.3), 0px 1px 3px 1px rgba(60, 64, 67, 0.15);\n",
              "      fill: #174EA6;\n",
              "    }\n",
              "\n",
              "    [theme=dark] .colab-df-convert {\n",
              "      background-color: #3B4455;\n",
              "      fill: #D2E3FC;\n",
              "    }\n",
              "\n",
              "    [theme=dark] .colab-df-convert:hover {\n",
              "      background-color: #434B5C;\n",
              "      box-shadow: 0px 1px 3px 1px rgba(0, 0, 0, 0.15);\n",
              "      filter: drop-shadow(0px 1px 2px rgba(0, 0, 0, 0.3));\n",
              "      fill: #FFFFFF;\n",
              "    }\n",
              "  </style>\n",
              "\n",
              "      <script>\n",
              "        const buttonEl =\n",
              "          document.querySelector('#df-4e0cdf15-8532-4e9c-b16f-9c4d0cd3a167 button.colab-df-convert');\n",
              "        buttonEl.style.display =\n",
              "          google.colab.kernel.accessAllowed ? 'block' : 'none';\n",
              "\n",
              "        async function convertToInteractive(key) {\n",
              "          const element = document.querySelector('#df-4e0cdf15-8532-4e9c-b16f-9c4d0cd3a167');\n",
              "          const dataTable =\n",
              "            await google.colab.kernel.invokeFunction('convertToInteractive',\n",
              "                                                     [key], {});\n",
              "          if (!dataTable) return;\n",
              "\n",
              "          const docLinkHtml = 'Like what you see? Visit the ' +\n",
              "            '<a target=\"_blank\" href=https://colab.research.google.com/notebooks/data_table.ipynb>data table notebook</a>'\n",
              "            + ' to learn more about interactive tables.';\n",
              "          element.innerHTML = '';\n",
              "          dataTable['output_type'] = 'display_data';\n",
              "          await google.colab.output.renderOutput(dataTable, element);\n",
              "          const docLink = document.createElement('div');\n",
              "          docLink.innerHTML = docLinkHtml;\n",
              "          element.appendChild(docLink);\n",
              "        }\n",
              "      </script>\n",
              "    </div>\n",
              "  </div>\n",
              "  "
            ],
            "text/plain": [
              "    Loan_ID Loan_Amount_Requested  ...  Gender Interest_Rate\n",
              "0  10000001                 7,000  ...  Female             1\n",
              "1  10000002                30,000  ...  Female             3\n",
              "2  10000003                24,725  ...    Male             3\n",
              "3  10000004                16,000  ...    Male             3\n",
              "4  10000005                17,000  ...  Female             1\n",
              "\n",
              "[5 rows x 14 columns]"
            ]
          },
          "metadata": {},
          "execution_count": 266
        }
      ]
    },
    {
      "cell_type": "markdown",
      "source": [
        "So I started this project with the effort to understand each feature seprately to know how does it actually affect our output. "
      ],
      "metadata": {
        "id": "N4v46AyOhs7T"
      }
    },
    {
      "cell_type": "markdown",
      "source": [
        "One can simply say that the rate of Interest is directly proportional to the amount of risk involved . In simple terms, as risk increases, bank also increases their interest rate"
      ],
      "metadata": {
        "id": "wy2ZlEYPg_Rg"
      }
    },
    {
      "cell_type": "markdown",
      "source": [
        "So I made few hypothesis before analyzing the data by using the prior knowledge which i have in terms of finance."
      ],
      "metadata": {
        "id": "YcnprDeFgtCR"
      }
    },
    {
      "cell_type": "markdown",
      "source": [
        "**My hypothesis** :\n",
        "\n",
        "1. Loan ID - Just a unique arbitary number alloted to each transaction.\n",
        "\n",
        "2. Loan_Amount_Requested ---> More amount more risk, Higher the interest rate.\n",
        "\n",
        "3. Length_Employed  ---> less length more risk, Higher the interest rate.\n",
        "\n",
        "4. Home owner ---> Own house less interest, rent house more interest.\n",
        "\n",
        "5. Annual_Income ----> More Income, less risk , less rate.\n",
        "\n",
        "6. Income_Verified ---> If Verified less risk, less rate.\n",
        "\n",
        "7. Purpose_Of_Loan  --> Monetize loan has higher rate as compared to home loan (These are basically policities create by bank and government)\n",
        "\n",
        "8. Debt_To_Income (Amount spend/gross income)  ----> Less ratio, less risk , less rate.\n",
        "\n",
        "9. Inquiries_Last_6Mo ---> creating inquiries indicates increased risk\n",
        "\n",
        "10. Months_Since_Deliquency  ---> More the time away from criminal act, less the rate\n",
        "\n",
        "11. Number_Open_Accounts ----> Opening too many accounts indicates increased risk\n",
        "\n",
        "12. Total_Accounts ---> More number of total accounts,  It generally shows that other lenders have trusted you with credit that means less risk.\n",
        "\n",
        "13. Gender  --> Depend upon the policy.\n",
        "\n"
      ],
      "metadata": {
        "id": "PGndrTELhhZm"
      }
    },
    {
      "cell_type": "markdown",
      "source": [
        "![image.png](data:image/png;base64,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)"
      ],
      "metadata": {
        "id": "Bv11c7Skq72i"
      }
    },
    {
      "cell_type": "markdown",
      "source": [
        "# **Data Preprocessing**"
      ],
      "metadata": {
        "id": "BMgSoN4Z6tV9"
      }
    },
    {
      "cell_type": "code",
      "source": [
        "data.shape"
      ],
      "metadata": {
        "colab": {
          "base_uri": "https://localhost:8080/"
        },
        "id": "MxPtuQkRgj-f",
        "outputId": "1d499d40-0314-4781-98b9-204d403408aa"
      },
      "execution_count": null,
      "outputs": [
        {
          "output_type": "execute_result",
          "data": {
            "text/plain": [
              "(164309, 14)"
            ]
          },
          "metadata": {},
          "execution_count": 267
        }
      ]
    },
    {
      "cell_type": "code",
      "source": [
        "data.corr().loc[\"Interest_Rate\",:]"
      ],
      "metadata": {
        "colab": {
          "base_uri": "https://localhost:8080/"
        },
        "id": "8vCwcSlRg6IU",
        "outputId": "e813f017-6c1c-4664-9c05-41a36cc05d96"
      },
      "execution_count": null,
      "outputs": [
        {
          "output_type": "execute_result",
          "data": {
            "text/plain": [
              "Loan_ID                    0.001290\n",
              "Annual_Income             -0.052783\n",
              "Debt_To_Income             0.152472\n",
              "Inquiries_Last_6Mo         0.188987\n",
              "Months_Since_Deliquency   -0.042108\n",
              "Number_Open_Accounts       0.002847\n",
              "Total_Accounts            -0.040690\n",
              "Interest_Rate              1.000000\n",
              "Name: Interest_Rate, dtype: float64"
            ]
          },
          "metadata": {},
          "execution_count": 268
        }
      ]
    },
    {
      "cell_type": "code",
      "source": [
        "data.info()"
      ],
      "metadata": {
        "colab": {
          "base_uri": "https://localhost:8080/"
        },
        "id": "gqMUZug_lSv0",
        "outputId": "4224a84d-2644-413a-c262-47186d4ae19d"
      },
      "execution_count": null,
      "outputs": [
        {
          "output_type": "stream",
          "name": "stdout",
          "text": [
            "<class 'pandas.core.frame.DataFrame'>\n",
            "RangeIndex: 164309 entries, 0 to 164308\n",
            "Data columns (total 14 columns):\n",
            " #   Column                   Non-Null Count   Dtype  \n",
            "---  ------                   --------------   -----  \n",
            " 0   Loan_ID                  164309 non-null  int64  \n",
            " 1   Loan_Amount_Requested    164309 non-null  object \n",
            " 2   Length_Employed          156938 non-null  object \n",
            " 3   Home_Owner               138960 non-null  object \n",
            " 4   Annual_Income            139207 non-null  float64\n",
            " 5   Income_Verified          164309 non-null  object \n",
            " 6   Purpose_Of_Loan          164309 non-null  object \n",
            " 7   Debt_To_Income           164309 non-null  float64\n",
            " 8   Inquiries_Last_6Mo       164309 non-null  int64  \n",
            " 9   Months_Since_Deliquency  75930 non-null   float64\n",
            " 10  Number_Open_Accounts     164309 non-null  int64  \n",
            " 11  Total_Accounts           164309 non-null  int64  \n",
            " 12  Gender                   164309 non-null  object \n",
            " 13  Interest_Rate            164309 non-null  int64  \n",
            "dtypes: float64(3), int64(5), object(6)\n",
            "memory usage: 17.6+ MB\n"
          ]
        }
      ]
    },
    {
      "cell_type": "code",
      "source": [
        "(data.isnull().sum()/data.shape[0])*100"
      ],
      "metadata": {
        "colab": {
          "base_uri": "https://localhost:8080/"
        },
        "id": "70Ba22u9nkPI",
        "outputId": "9c8a7501-24a3-40ba-b37d-353642fb88ac"
      },
      "execution_count": null,
      "outputs": [
        {
          "output_type": "execute_result",
          "data": {
            "text/plain": [
              "Loan_ID                     0.000000\n",
              "Loan_Amount_Requested       0.000000\n",
              "Length_Employed             4.486060\n",
              "Home_Owner                 15.427639\n",
              "Annual_Income              15.277313\n",
              "Income_Verified             0.000000\n",
              "Purpose_Of_Loan             0.000000\n",
              "Debt_To_Income              0.000000\n",
              "Inquiries_Last_6Mo          0.000000\n",
              "Months_Since_Deliquency    53.788289\n",
              "Number_Open_Accounts        0.000000\n",
              "Total_Accounts              0.000000\n",
              "Gender                      0.000000\n",
              "Interest_Rate               0.000000\n",
              "dtype: float64"
            ]
          },
          "metadata": {},
          "execution_count": 270
        }
      ]
    },
    {
      "cell_type": "code",
      "source": [
        "(data.isnull().sum()/data.shape[0])*100"
      ],
      "metadata": {
        "id": "I7lZRDzDZv5F"
      },
      "execution_count": null,
      "outputs": []
    },
    {
      "cell_type": "markdown",
      "source": [
        "**Planning to remove Months_Since_Deliquency since it has 50% null value**"
      ],
      "metadata": {
        "id": "APD0JhpF79lP"
      }
    },
    {
      "cell_type": "code",
      "source": [
        "sns.countplot(data['Interest_Rate'])\n",
        "# It's an Balanced dataset"
      ],
      "metadata": {
        "colab": {
          "base_uri": "https://localhost:8080/",
          "height": 298
        },
        "id": "yalzbkWPo5lO",
        "outputId": "2d6907a9-6eb1-4824-8ad4-49bc04b76779"
      },
      "execution_count": null,
      "outputs": [
        {
          "output_type": "execute_result",
          "data": {
            "text/plain": [
              "<matplotlib.axes._subplots.AxesSubplot at 0x7f7c67562cd0>"
            ]
          },
          "metadata": {},
          "execution_count": 271
        },
        {
          "output_type": "display_data",
          "data": {
            "image/png": "[encoded data removed]",
            "text/plain": [
              "<Figure size 432x288 with 1 Axes>"
            ]
          },
          "metadata": {
            "needs_background": "light"
          }
        }
      ]
    },
    {
      "cell_type": "code",
      "source": [
        "print(data['Months_Since_Deliquency'].skew())\n",
        "print(data['Months_Since_Deliquency'].kurtosis())\n",
        "sns.distplot(data['Months_Since_Deliquency'])"
      ],
      "metadata": {
        "colab": {
          "base_uri": "https://localhost:8080/",
          "height": 332
        },
        "id": "ZorRzk988Ip-",
        "outputId": "7630dfeb-6e92-4bd3-c935-65e69c3bf8d0"
      },
      "execution_count": null,
      "outputs": [
        {
          "output_type": "stream",
          "name": "stdout",
          "text": [
            "0.46089962944440055\n",
            "-0.7363474524876565\n"
          ]
        },
        {
          "output_type": "execute_result",
          "data": {
            "text/plain": [
              "<matplotlib.axes._subplots.AxesSubplot at 0x7f7c674fc9d0>"
            ]
          },
          "metadata": {},
          "execution_count": 272
        },
        {
          "output_type": "display_data",
          "data": {
            "image/png": "[encoded data removed]",
            "text/plain": [
              "<Figure size 432x288 with 1 Axes>"
            ]
          },
          "metadata": {
            "needs_background": "light"
          }
        }
      ]
    },
    {
      "cell_type": "markdown",
      "source": [
        "### **kurtosis**\n",
        "\n",
        "Baseline: Kurtosis value of 0\n",
        "\n",
        "Data that follow a normal distribution perfectly have a kurtosis value of 0. Normally distributed data establishes the baseline for kurtosis. Sample kurtosis that significantly deviates from 0 may indicate that the data are not normally distributed.\n",
        "\n",
        "Positive kurtosis:\n",
        "\n",
        "A distribution with a positive kurtosis value indicates that the distribution has heavier tails and a sharper peak than the normal distribution. For example, data that follow a t distribution have a positive kurtosis value.\n",
        "\n",
        "Negative kurtosis:\n",
        "\n",
        "A distribution with a negative kurtosis value indicates that the distribution has lighter tails and a flatter peak than the normal distribution. For example, data that follow a beta distribution with first and second shape parameters equal to 2 have a negative kurtosis value.\n",
        "\n",
        "A negative kurtosis means that your distribution is flatter than a normal curve with the same mean and standard deviation.\n",
        "\n",
        "So, when is the skewness too much?\n",
        "\n",
        "The rule of thumb seems to be:\n",
        "\n",
        "If the skewness is between -0.5 and 0.5, the data are fairly symmetrical.\n",
        "\n",
        "If the skewness is between -1 and -0.5(negatively skewed) or between 0.5 and 1(positively skewed), the data are moderately skewed.\n",
        "\n",
        "If the skewness is less than -1(negatively skewed) or greater than 1(positively skewed), the data are highly skewed."
      ],
      "metadata": {
        "id": "1tdNS7cY8tmo"
      }
    },
    {
      "cell_type": "code",
      "source": [
        "data.plot(kind = 'box',figsize=(20,5))"
      ],
      "metadata": {
        "colab": {
          "base_uri": "https://localhost:8080/",
          "height": 338
        },
        "id": "QJpUtAws-UHJ",
        "outputId": "6f272ecf-9254-47be-a244-046c2e60a4fb"
      },
      "execution_count": null,
      "outputs": [
        {
          "output_type": "execute_result",
          "data": {
            "text/plain": [
              "<matplotlib.axes._subplots.AxesSubplot at 0x7f7c674fc650>"
            ]
          },
          "metadata": {},
          "execution_count": 273
        },
        {
          "output_type": "display_data",
          "data": {
            "image/png": "[encoded data removed]",
            "text/plain": [
              "<Figure size 1440x360 with 1 Axes>"
            ]
          },
          "metadata": {
            "needs_background": "light"
          }
        }
      ]
    },
    {
      "cell_type": "markdown",
      "source": [
        "**Annual Income feature has most number of outliers**"
      ],
      "metadata": {
        "id": "VusxwuU_-aG0"
      }
    },
    {
      "cell_type": "markdown",
      "source": [
        "# **Handling missing values**"
      ],
      "metadata": {
        "id": "oipNtchJ8JoJ"
      }
    },
    {
      "cell_type": "code",
      "source": [
        "data[\"Length_Employed\"].fillna(data['Length_Employed'].mode()[0],inplace = True)"
      ],
      "metadata": {
        "id": "_uqJ4vHj0IEw"
      },
      "execution_count": null,
      "outputs": []
    },
    {
      "cell_type": "code",
      "source": [
        "data[\"Home_Owner\"].fillna(data['Home_Owner'].mode()[0],inplace = True)"
      ],
      "metadata": {
        "id": "uGcWWujR08i9"
      },
      "execution_count": null,
      "outputs": []
    },
    {
      "cell_type": "code",
      "source": [
        "data[\"Annual_Income\"].fillna(data['Annual_Income'].median(),inplace = True)"
      ],
      "metadata": {
        "id": "rOoJ0kzO0989"
      },
      "execution_count": null,
      "outputs": []
    },
    {
      "cell_type": "code",
      "source": [
        "data=data.drop([\"Months_Since_Deliquency\"],axis=1)"
      ],
      "metadata": {
        "id": "MIS3npeB1t7M"
      },
      "execution_count": null,
      "outputs": []
    },
    {
      "cell_type": "code",
      "source": [
        "data.isna().sum()"
      ],
      "metadata": {
        "colab": {
          "base_uri": "https://localhost:8080/"
        },
        "id": "FcyaP0VI0RsP",
        "outputId": "df26c64d-bd2c-4083-ca76-8158a0f851f7"
      },
      "execution_count": null,
      "outputs": [
        {
          "output_type": "execute_result",
          "data": {
            "text/plain": [
              "Loan_ID                  0\n",
              "Loan_Amount_Requested    0\n",
              "Length_Employed          0\n",
              "Home_Owner               0\n",
              "Annual_Income            0\n",
              "Income_Verified          0\n",
              "Purpose_Of_Loan          0\n",
              "Debt_To_Income           0\n",
              "Inquiries_Last_6Mo       0\n",
              "Number_Open_Accounts     0\n",
              "Total_Accounts           0\n",
              "Gender                   0\n",
              "Interest_Rate            0\n",
              "dtype: int64"
            ]
          },
          "metadata": {},
          "execution_count": 278
        }
      ]
    },
    {
      "cell_type": "code",
      "source": [
        "data.info()"
      ],
      "metadata": {
        "colab": {
          "base_uri": "https://localhost:8080/"
        },
        "id": "H9S3Lu__2CW8",
        "outputId": "95e31435-b506-4f96-fbd6-47279e62367b"
      },
      "execution_count": null,
      "outputs": [
        {
          "output_type": "stream",
          "name": "stdout",
          "text": [
            "<class 'pandas.core.frame.DataFrame'>\n",
            "RangeIndex: 164309 entries, 0 to 164308\n",
            "Data columns (total 13 columns):\n",
            " #   Column                 Non-Null Count   Dtype  \n",
            "---  ------                 --------------   -----  \n",
            " 0   Loan_ID                164309 non-null  int64  \n",
            " 1   Loan_Amount_Requested  164309 non-null  object \n",
            " 2   Length_Employed        164309 non-null  object \n",
            " 3   Home_Owner             164309 non-null  object \n",
            " 4   Annual_Income          164309 non-null  float64\n",
            " 5   Income_Verified        164309 non-null  object \n",
            " 6   Purpose_Of_Loan        164309 non-null  object \n",
            " 7   Debt_To_Income         164309 non-null  float64\n",
            " 8   Inquiries_Last_6Mo     164309 non-null  int64  \n",
            " 9   Number_Open_Accounts   164309 non-null  int64  \n",
            " 10  Total_Accounts         164309 non-null  int64  \n",
            " 11  Gender                 164309 non-null  object \n",
            " 12  Interest_Rate          164309 non-null  int64  \n",
            "dtypes: float64(2), int64(5), object(6)\n",
            "memory usage: 16.3+ MB\n"
          ]
        }
      ]
    },
    {
      "cell_type": "markdown",
      "source": [
        "# **EDA and Data cleaning of Each column seprately** "
      ],
      "metadata": {
        "id": "eIHPffGqFE9c"
      }
    },
    {
      "cell_type": "markdown",
      "source": [
        "**Length Employed**"
      ],
      "metadata": {
        "id": "TqKZT6ib4DOb"
      }
    },
    {
      "cell_type": "code",
      "source": [
        "data[\"Length_Employed\"].unique()"
      ],
      "metadata": {
        "colab": {
          "base_uri": "https://localhost:8080/"
        },
        "id": "4Vzyp6-G1_az",
        "outputId": "12504dde-6f32-4bae-bbe5-9a06729efbb5"
      },
      "execution_count": null,
      "outputs": [
        {
          "output_type": "execute_result",
          "data": {
            "text/plain": [
              "array(['< 1 year', '4 years', '7 years', '8 years', '2 years',\n",
              "       '10+ years', '1 year', '6 years', '9 years', '3 years', '5 years'],\n",
              "      dtype=object)"
            ]
          },
          "metadata": {},
          "execution_count": 280
        }
      ]
    },
    {
      "cell_type": "code",
      "source": [
        "Length_Employed={'< 1 year':0, '4 years':4, '7 years':7, '8 years':8, '2 years':2,'10+ years':10, '1 year':1, '6 years':6, '9 years':9, '3 years':3, '5 years':5}"
      ],
      "metadata": {
        "id": "hJ2oy4x44O1x"
      },
      "execution_count": null,
      "outputs": []
    },
    {
      "cell_type": "code",
      "source": [
        "data[\"Length_Employed\"]=data[\"Length_Employed\"].map(Length_Employed)"
      ],
      "metadata": {
        "id": "6Bzxb0lD4j-C"
      },
      "execution_count": null,
      "outputs": []
    },
    {
      "cell_type": "code",
      "source": [
        "sns.countplot(data['Length_Employed'])"
      ],
      "metadata": {
        "colab": {
          "base_uri": "https://localhost:8080/",
          "height": 298
        },
        "id": "EwVZnihsrJqx",
        "outputId": "785ecc61-f75c-4d4b-9764-77d25ac6f1b4"
      },
      "execution_count": null,
      "outputs": [
        {
          "output_type": "execute_result",
          "data": {
            "text/plain": [
              "<matplotlib.axes._subplots.AxesSubplot at 0x7f7c67313310>"
            ]
          },
          "metadata": {},
          "execution_count": 283
        },
        {
          "output_type": "display_data",
          "data": {
            "image/png": "[encoded data removed]",
            "text/plain": [
              "<Figure size 432x288 with 1 Axes>"
            ]
          },
          "metadata": {
            "needs_background": "light"
          }
        }
      ]
    },
    {
      "cell_type": "markdown",
      "source": [
        "**Loan_Amount_Requested**"
      ],
      "metadata": {
        "id": "CE4EONFA4ndr"
      }
    },
    {
      "cell_type": "code",
      "source": [
        "data[\"Loan_Amount_Requested\"].unique()"
      ],
      "metadata": {
        "colab": {
          "base_uri": "https://localhost:8080/"
        },
        "id": "E2wN5ab12P8d",
        "outputId": "b9c140c5-28cd-4200-f871-c56674b6ccbc"
      },
      "execution_count": null,
      "outputs": [
        {
          "output_type": "execute_result",
          "data": {
            "text/plain": [
              "array(['7,000', '30,000', '24,725', ..., '28,950', '33,325', '29,825'],\n",
              "      dtype=object)"
            ]
          },
          "metadata": {},
          "execution_count": 284
        }
      ]
    },
    {
      "cell_type": "code",
      "source": [
        "data[\"Loan_Amount_Requested\"]=data['Loan_Amount_Requested'].str.replace(',', '').astype(int)"
      ],
      "metadata": {
        "id": "1LCQ4lMU3evE"
      },
      "execution_count": null,
      "outputs": []
    },
    {
      "cell_type": "code",
      "source": [
        "print(data['Loan_Amount_Requested'].skew())\n",
        "print(data['Loan_Amount_Requested'].kurtosis())\n",
        "sns.distplot(data['Loan_Amount_Requested'])"
      ],
      "metadata": {
        "colab": {
          "base_uri": "https://localhost:8080/",
          "height": 332
        },
        "id": "VVEijcUh-zGx",
        "outputId": "16fe2a1b-271f-42d5-eb97-837f3e005ee8"
      },
      "execution_count": null,
      "outputs": [
        {
          "output_type": "stream",
          "name": "stdout",
          "text": [
            "0.7272164488493352\n",
            "-0.14116508515729098\n"
          ]
        },
        {
          "output_type": "execute_result",
          "data": {
            "text/plain": [
              "<matplotlib.axes._subplots.AxesSubplot at 0x7f7c67273850>"
            ]
          },
          "metadata": {},
          "execution_count": 286
        },
        {
          "output_type": "display_data",
          "data": {
            "image/png": "[encoded data removed]",
            "text/plain": [
              "<Figure size 432x288 with 1 Axes>"
            ]
          },
          "metadata": {
            "needs_background": "light"
          }
        }
      ]
    },
    {
      "cell_type": "markdown",
      "source": [
        "Postively skewed\n",
        "\n",
        "Do not follow a normal distribution curve\n",
        "\n",
        "has less outlier as kurtosis is negative and no tail"
      ],
      "metadata": {
        "id": "-Tz9_G1J_EZ3"
      }
    },
    {
      "cell_type": "code",
      "source": [
        "fig, ax = plt.subplots(figsize=(5,5))\n",
        "plt.suptitle('')\n",
        "data.boxplot(column=['Loan_Amount_Requested'], by='Interest_Rate', ax=ax)"
      ],
      "metadata": {
        "colab": {
          "base_uri": "https://localhost:8080/",
          "height": 379
        },
        "id": "rL8iuIzR_YH6",
        "outputId": "063faf71-6acc-46a8-ba82-70d9d4de0529"
      },
      "execution_count": null,
      "outputs": [
        {
          "output_type": "execute_result",
          "data": {
            "text/plain": [
              "<matplotlib.axes._subplots.AxesSubplot at 0x7f7c671d6d10>"
            ]
          },
          "metadata": {},
          "execution_count": 287
        },
        {
          "output_type": "display_data",
          "data": {
            "image/png": "[encoded data removed]",
            "text/plain": [
              "<Figure size 360x360 with 1 Axes>"
            ]
          },
          "metadata": {
            "needs_background": "light"
          }
        }
      ]
    },
    {
      "cell_type": "code",
      "source": [
        "print(data['Loan_Amount_Requested'].corr(data['Interest_Rate']))\n",
        "print(data['Loan_label'].corr(data['Interest_Rate']))"
      ],
      "metadata": {
        "colab": {
          "base_uri": "https://localhost:8080/"
        },
        "id": "KuaWfWHsA53u",
        "outputId": "d10b34a8-33b3-46f7-9ec8-61ff708c02ac"
      },
      "execution_count": null,
      "outputs": [
        {
          "output_type": "stream",
          "name": "stdout",
          "text": [
            "0.13248578011541345\n",
            "0.12672622524950958\n"
          ]
        }
      ]
    },
    {
      "cell_type": "markdown",
      "source": [
        "**Annual Income**"
      ],
      "metadata": {
        "id": "b8LpLbfeB7hp"
      }
    },
    {
      "cell_type": "code",
      "source": [
        "print(data['Annual_Income'].skew())\n",
        "print(data['Annual_Income'].kurtosis())\n",
        "sns.distplot(data['Annual_Income'])"
      ],
      "metadata": {
        "colab": {
          "base_uri": "https://localhost:8080/",
          "height": 343
        },
        "id": "2hmXgh8SB-eZ",
        "outputId": "0979352b-94f5-47c9-8658-bd0a371c0426"
      },
      "execution_count": null,
      "outputs": [
        {
          "output_type": "stream",
          "name": "stdout",
          "text": [
            "43.494219236470244\n",
            "4664.030277149857\n"
          ]
        },
        {
          "output_type": "execute_result",
          "data": {
            "text/plain": [
              "<matplotlib.axes._subplots.AxesSubplot at 0x7f7c6709bdd0>"
            ]
          },
          "metadata": {},
          "execution_count": 290
        },
        {
          "output_type": "display_data",
          "data": {
            "image/png": "[encoded data removed]",
            "text/plain": [
              "<Figure size 432x288 with 1 Axes>"
            ]
          },
          "metadata": {
            "needs_background": "light"
          }
        }
      ]
    },
    {
      "cell_type": "markdown",
      "source": [
        "**Home_Owner**"
      ],
      "metadata": {
        "id": "cbvW1Oq84rTQ"
      }
    },
    {
      "cell_type": "code",
      "source": [
        "data[\"Home_Owner\"].unique()"
      ],
      "metadata": {
        "colab": {
          "base_uri": "https://localhost:8080/"
        },
        "id": "JwFgF_rO2tfs",
        "outputId": "ef37681d-3171-4cf6-cb03-8bb07a0b7493"
      },
      "execution_count": null,
      "outputs": [
        {
          "output_type": "execute_result",
          "data": {
            "text/plain": [
              "array(['Rent', 'Mortgage', 'Own', 'Other', 'None'], dtype=object)"
            ]
          },
          "metadata": {},
          "execution_count": 292
        }
      ]
    },
    {
      "cell_type": "code",
      "source": [
        "from sklearn import preprocessing\n",
        " \n",
        "# label_encoder object knows how to understand word labels.\n",
        "label_encoder = preprocessing.LabelEncoder()\n",
        " \n",
        "# Encode labels in column 'species'.\n",
        "data['Home_Owner']= label_encoder.fit_transform(data['Home_Owner'])"
      ],
      "metadata": {
        "id": "dhfiFPm-50kz"
      },
      "execution_count": null,
      "outputs": []
    },
    {
      "cell_type": "code",
      "source": [
        "data['Home_Owner'].value_counts()"
      ],
      "metadata": {
        "colab": {
          "base_uri": "https://localhost:8080/"
        },
        "id": "RcrKD57hBf6E",
        "outputId": "ba54a801-a0f4-4e02-aa14-b54a405eec44"
      },
      "execution_count": null,
      "outputs": [
        {
          "output_type": "execute_result",
          "data": {
            "text/plain": [
              "0    95694\n",
              "4    56031\n",
              "3    12525\n",
              "2       49\n",
              "1       10\n",
              "Name: Home_Owner, dtype: int64"
            ]
          },
          "metadata": {},
          "execution_count": 294
        }
      ]
    },
    {
      "cell_type": "code",
      "source": [
        "sns.countplot(data['Home_Owner'])"
      ],
      "metadata": {
        "colab": {
          "base_uri": "https://localhost:8080/",
          "height": 300
        },
        "id": "Kgtirt7GBYf-",
        "outputId": "a445b37b-d902-4249-d6f1-3fa11d177718"
      },
      "execution_count": null,
      "outputs": [
        {
          "output_type": "execute_result",
          "data": {
            "text/plain": [
              "<matplotlib.axes._subplots.AxesSubplot at 0x7f7c671758d0>"
            ]
          },
          "metadata": {},
          "execution_count": 295
        },
        {
          "output_type": "display_data",
          "data": {
            "image/png": "[encoded data removed]",
            "text/plain": [
              "<Figure size 432x288 with 1 Axes>"
            ]
          },
          "metadata": {
            "needs_background": "light"
          }
        }
      ]
    },
    {
      "cell_type": "markdown",
      "source": [
        "**Income_Verified**"
      ],
      "metadata": {
        "id": "LSYivzV94wyS"
      }
    },
    {
      "cell_type": "code",
      "source": [
        "data[\"Income_Verified\"].unique()"
      ],
      "metadata": {
        "colab": {
          "base_uri": "https://localhost:8080/"
        },
        "id": "dG7gpSa-2Rva",
        "outputId": "3ce6d276-c3bd-46be-9028-52ef293b5011"
      },
      "execution_count": null,
      "outputs": [
        {
          "output_type": "execute_result",
          "data": {
            "text/plain": [
              "array(['not verified', 'VERIFIED - income', 'VERIFIED - income source'],\n",
              "      dtype=object)"
            ]
          },
          "metadata": {},
          "execution_count": 296
        }
      ]
    },
    {
      "cell_type": "code",
      "source": [
        "data[\"Income_Verified\"].value_counts()"
      ],
      "metadata": {
        "colab": {
          "base_uri": "https://localhost:8080/"
        },
        "id": "RY5JUnIQ3Fxb",
        "outputId": "ee956497-d59d-4dfc-f5c5-e5498f78210d"
      },
      "execution_count": null,
      "outputs": [
        {
          "output_type": "execute_result",
          "data": {
            "text/plain": [
              "VERIFIED - income           59421\n",
              "VERIFIED - income source    53015\n",
              "not verified                51873\n",
              "Name: Income_Verified, dtype: int64"
            ]
          },
          "metadata": {},
          "execution_count": 297
        }
      ]
    },
    {
      "cell_type": "code",
      "source": [
        "Income_Verified={'not verified':0, 'VERIFIED - income':1, 'VERIFIED - income source':2}"
      ],
      "metadata": {
        "id": "GbZc14CB247l"
      },
      "execution_count": null,
      "outputs": []
    },
    {
      "cell_type": "code",
      "source": [
        "data[\"Income_Verified\"]=data[\"Income_Verified\"].map(Income_Verified)"
      ],
      "metadata": {
        "id": "mJQy-Qfs3un8"
      },
      "execution_count": null,
      "outputs": []
    },
    {
      "cell_type": "code",
      "source": [
        "sns.countplot(data['Income_Verified'])"
      ],
      "metadata": {
        "colab": {
          "base_uri": "https://localhost:8080/",
          "height": 298
        },
        "id": "lvvIlRIHDMzI",
        "outputId": "34240cd2-fb36-4568-aa19-f1e1c9fe2254"
      },
      "execution_count": null,
      "outputs": [
        {
          "output_type": "execute_result",
          "data": {
            "text/plain": [
              "<matplotlib.axes._subplots.AxesSubplot at 0x7f7c66f25990>"
            ]
          },
          "metadata": {},
          "execution_count": 300
        },
        {
          "output_type": "display_data",
          "data": {
            "image/png": "[encoded data removed]",
            "text/plain": [
              "<Figure size 432x288 with 1 Axes>"
            ]
          },
          "metadata": {
            "needs_background": "light"
          }
        }
      ]
    },
    {
      "cell_type": "markdown",
      "source": [
        "**Purpose_Of_Loan**"
      ],
      "metadata": {
        "id": "maLXb0Gh43uf"
      }
    },
    {
      "cell_type": "code",
      "source": [
        "data[\"Purpose_Of_Loan\"].unique()"
      ],
      "metadata": {
        "colab": {
          "base_uri": "https://localhost:8080/"
        },
        "id": "nx9k8xPG2SXA",
        "outputId": "a2f49102-9eea-4783-8340-edb6cf27085a"
      },
      "execution_count": null,
      "outputs": [
        {
          "output_type": "execute_result",
          "data": {
            "text/plain": [
              "array(['car', 'debt_consolidation', 'credit_card', 'home_improvement',\n",
              "       'major_purchase', 'other', 'medical', 'small_business', 'moving',\n",
              "       'wedding', 'vacation', 'house', 'educational', 'renewable_energy'],\n",
              "      dtype=object)"
            ]
          },
          "metadata": {},
          "execution_count": 301
        }
      ]
    },
    {
      "cell_type": "code",
      "source": [
        "from sklearn import preprocessing\n",
        " \n",
        "# label_encoder object knows how to understand word labels.\n",
        "label_encoder = preprocessing.LabelEncoder()\n",
        " \n",
        "# Encode labels in column 'species'.\n",
        "data['Purpose_Of_Loan']= label_encoder.fit_transform(data['Purpose_Of_Loan'])"
      ],
      "metadata": {
        "id": "RhPsdRs66bpj"
      },
      "execution_count": null,
      "outputs": []
    },
    {
      "cell_type": "code",
      "source": [
        "plt.figure(figsize=(25,8))\n",
        "sns.countplot(data['Purpose_Of_Loan'])"
      ],
      "metadata": {
        "colab": {
          "base_uri": "https://localhost:8080/",
          "height": 399
        },
        "id": "Y7no_UuXDaHg",
        "outputId": "c0af5e9c-f304-4160-9682-77a73eadf537"
      },
      "execution_count": null,
      "outputs": [
        {
          "output_type": "execute_result",
          "data": {
            "text/plain": [
              "<matplotlib.axes._subplots.AxesSubplot at 0x7f7c66f54d10>"
            ]
          },
          "metadata": {},
          "execution_count": 303
        },
        {
          "output_type": "display_data",
          "data": {
            "image/png": "[encoded data removed]",
            "text/plain": [
              "<Figure size 1800x576 with 1 Axes>"
            ]
          },
          "metadata": {
            "needs_background": "light"
          }
        }
      ]
    },
    {
      "cell_type": "markdown",
      "source": [
        "**Gender**"
      ],
      "metadata": {
        "id": "mz0pvYIs5URj"
      }
    },
    {
      "cell_type": "code",
      "source": [
        "data[\"Gender\"].unique()"
      ],
      "metadata": {
        "colab": {
          "base_uri": "https://localhost:8080/"
        },
        "id": "g9kEs6DB2d1U",
        "outputId": "ab9835ce-6e63-4583-e425-499c55bfa02c"
      },
      "execution_count": null,
      "outputs": [
        {
          "output_type": "execute_result",
          "data": {
            "text/plain": [
              "array(['Female', 'Male'], dtype=object)"
            ]
          },
          "metadata": {},
          "execution_count": 304
        }
      ]
    },
    {
      "cell_type": "code",
      "source": [
        "gender={'Female':1, 'Male':0}"
      ],
      "metadata": {
        "id": "XflP2cpj2ya7"
      },
      "execution_count": null,
      "outputs": []
    },
    {
      "cell_type": "code",
      "source": [
        "data[\"Gender\"]=data[\"Gender\"].map(gender)"
      ],
      "metadata": {
        "id": "D-wsriy332cm"
      },
      "execution_count": null,
      "outputs": []
    },
    {
      "cell_type": "code",
      "source": [
        "sns.countplot(data['Gender'])"
      ],
      "metadata": {
        "colab": {
          "base_uri": "https://localhost:8080/",
          "height": 296
        },
        "id": "NcA5JRTJDfe0",
        "outputId": "8c9ff864-1a46-468c-d124-e9bb37153154"
      },
      "execution_count": null,
      "outputs": [
        {
          "output_type": "execute_result",
          "data": {
            "text/plain": [
              "<matplotlib.axes._subplots.AxesSubplot at 0x7f7c66dc1f90>"
            ]
          },
          "metadata": {},
          "execution_count": 307
        },
        {
          "output_type": "display_data",
          "data": {
            "image/png": "[encoded data removed]",
            "text/plain": [
              "<Figure size 432x288 with 1 Axes>"
            ]
          },
          "metadata": {
            "needs_background": "light"
          }
        }
      ]
    },
    {
      "cell_type": "markdown",
      "source": [
        "**Debt to income**"
      ],
      "metadata": {
        "id": "pyXV9alTDnjk"
      }
    },
    {
      "cell_type": "code",
      "source": [
        "print(data['Debt_To_Income'].skew())\n",
        "print(data['Debt_To_Income'].kurtosis())\n",
        "sns.distplot(data.Debt_To_Income)"
      ],
      "metadata": {
        "colab": {
          "base_uri": "https://localhost:8080/",
          "height": 336
        },
        "id": "YG2TJkscDp7y",
        "outputId": "c32ef340-27f2-4c4c-ae12-e9e27212b609"
      },
      "execution_count": null,
      "outputs": [
        {
          "output_type": "stream",
          "name": "stdout",
          "text": [
            "0.19220424443627823\n",
            "-0.5346745798493684\n"
          ]
        },
        {
          "output_type": "execute_result",
          "data": {
            "text/plain": [
              "<matplotlib.axes._subplots.AxesSubplot at 0x7f7c66d88890>"
            ]
          },
          "metadata": {},
          "execution_count": 308
        },
        {
          "output_type": "display_data",
          "data": {
            "image/png": "[encoded data removed]",
            "text/plain": [
              "<Figure size 432x288 with 1 Axes>"
            ]
          },
          "metadata": {
            "needs_background": "light"
          }
        }
      ]
    },
    {
      "cell_type": "markdown",
      "source": [
        "**Inquiries_Last_6Mo**"
      ],
      "metadata": {
        "id": "lIrQFxESDyoG"
      }
    },
    {
      "cell_type": "code",
      "source": [
        "sns.countplot(data['Inquiries_Last_6Mo'])"
      ],
      "metadata": {
        "colab": {
          "base_uri": "https://localhost:8080/",
          "height": 298
        },
        "id": "RzCm064vDzo1",
        "outputId": "92e0f10f-06e5-40bd-d669-f685812d35a3"
      },
      "execution_count": null,
      "outputs": [
        {
          "output_type": "execute_result",
          "data": {
            "text/plain": [
              "<matplotlib.axes._subplots.AxesSubplot at 0x7f7c66c92750>"
            ]
          },
          "metadata": {},
          "execution_count": 309
        },
        {
          "output_type": "display_data",
          "data": {
            "image/png": "[encoded data removed]",
            "text/plain": [
              "<Figure size 432x288 with 1 Axes>"
            ]
          },
          "metadata": {
            "needs_background": "light"
          }
        }
      ]
    },
    {
      "cell_type": "markdown",
      "source": [
        "**Number_Open_Accounts**"
      ],
      "metadata": {
        "id": "pvzIxQx7EqrN"
      }
    },
    {
      "cell_type": "code",
      "source": [
        "sns.countplot(data['Number_Open_Accounts'])"
      ],
      "metadata": {
        "colab": {
          "base_uri": "https://localhost:8080/",
          "height": 298
        },
        "id": "WQvROLWyEroh",
        "outputId": "93aad91f-d57e-4aba-f1fd-2a0d52a657e3"
      },
      "execution_count": null,
      "outputs": [
        {
          "output_type": "execute_result",
          "data": {
            "text/plain": [
              "<matplotlib.axes._subplots.AxesSubplot at 0x7f7c680527d0>"
            ]
          },
          "metadata": {},
          "execution_count": 310
        },
        {
          "output_type": "display_data",
          "data": {
            "image/png": "[encoded data removed]",
            "text/plain": [
              "<Figure size 432x288 with 1 Axes>"
            ]
          },
          "metadata": {
            "needs_background": "light"
          }
        }
      ]
    },
    {
      "cell_type": "markdown",
      "source": [
        "**Total_Accounts**"
      ],
      "metadata": {
        "id": "USWrlSoCE2ZW"
      }
    },
    {
      "cell_type": "code",
      "source": [
        "sns.countplot(data['Total_Accounts'])"
      ],
      "metadata": {
        "colab": {
          "base_uri": "https://localhost:8080/",
          "height": 298
        },
        "id": "U-vC4IQ5Ev4K",
        "outputId": "b3c1af79-3ae3-45cd-cd28-e14aedd9f783"
      },
      "execution_count": null,
      "outputs": [
        {
          "output_type": "execute_result",
          "data": {
            "text/plain": [
              "<matplotlib.axes._subplots.AxesSubplot at 0x7f7c66a20e10>"
            ]
          },
          "metadata": {},
          "execution_count": 311
        },
        {
          "output_type": "display_data",
          "data": {
            "image/png": "[encoded data removed]",
            "text/plain": [
              "<Figure size 432x288 with 1 Axes>"
            ]
          },
          "metadata": {
            "needs_background": "light"
          }
        }
      ]
    },
    {
      "cell_type": "markdown",
      "source": [
        "# **Creating new features**"
      ],
      "metadata": {
        "id": "pAqf3fv4E_qn"
      }
    },
    {
      "cell_type": "code",
      "source": [
        "data[\"Number_Invalid_Acc\"] = data[\"Total_Accounts\"] - data[\"Number_Open_Accounts\"]\n",
        "data[\"Number_Years_To_Repay_Debt\"] = data[\"Loan_Amount_Requested\"]/data[\"Annual_Income\"]"
      ],
      "metadata": {
        "id": "LIedQgBTE6KG"
      },
      "execution_count": null,
      "outputs": []
    },
    {
      "cell_type": "code",
      "source": [
        "# Creating a new label to categorize the loan amount\n",
        "data['Loan_label'] = pd.cut(x=data['Loan_Amount_Requested'], bins= 3, labels=[0,1,2], right=True)"
      ],
      "metadata": {
        "id": "3jemR2CaAe87"
      },
      "execution_count": null,
      "outputs": []
    },
    {
      "cell_type": "code",
      "source": [
        "data['Income_label'] = pd.cut(x=data['Annual_Income'], bins= 3, labels=[0,1,2], right=True)"
      ],
      "metadata": {
        "id": "xdP0PkIKDC2t"
      },
      "execution_count": null,
      "outputs": []
    },
    {
      "cell_type": "code",
      "source": [
        "data"
      ],
      "metadata": {
        "colab": {
          "base_uri": "https://localhost:8080/",
          "height": 487
        },
        "id": "FrYRUwo2G99m",
        "outputId": "381a28e0-9542-4de9-f6e3-4c08bb8e47b6"
      },
      "execution_count": null,
      "outputs": [
        {
          "output_type": "execute_result",
          "data": {
            "text/html": [
              "\n",
              "  <div id=\"df-e80d56bc-9805-4627-b8a2-a91b6fd74a31\">\n",
              "    <div class=\"colab-df-container\">\n",
              "      <div>\n",
              "<style scoped>\n",
              "    .dataframe tbody tr th:only-of-type {\n",
              "        vertical-align: middle;\n",
              "    }\n",
              "\n",
              "    .dataframe tbody tr th {\n",
              "        vertical-align: top;\n",
              "    }\n",
              "\n",
              "    .dataframe thead th {\n",
              "        text-align: right;\n",
              "    }\n",
              "</style>\n",
              "<table border=\"1\" class=\"dataframe\">\n",
              "  <thead>\n",
              "    <tr style=\"text-align: right;\">\n",
              "      <th></th>\n",
              "      <th>Loan_ID</th>\n",
              "      <th>Loan_Amount_Requested</th>\n",
              "      <th>Length_Employed</th>\n",
              "      <th>Home_Owner</th>\n",
              "      <th>Annual_Income</th>\n",
              "      <th>Income_Verified</th>\n",
              "      <th>Purpose_Of_Loan</th>\n",
              "      <th>Debt_To_Income</th>\n",
              "      <th>Inquiries_Last_6Mo</th>\n",
              "      <th>Number_Open_Accounts</th>\n",
              "      <th>Total_Accounts</th>\n",
              "      <th>Gender</th>\n",
              "      <th>Interest_Rate</th>\n",
              "      <th>Loan_label</th>\n",
              "      <th>Income_label</th>\n",
              "      <th>Number_Invalid_Acc</th>\n",
              "      <th>Number_Years_To_Repay_Debt</th>\n",
              "    </tr>\n",
              "  </thead>\n",
              "  <tbody>\n",
              "    <tr>\n",
              "      <th>0</th>\n",
              "      <td>10000001</td>\n",
              "      <td>7000</td>\n",
              "      <td>0</td>\n",
              "      <td>4</td>\n",
              "      <td>68000.0</td>\n",
              "      <td>0</td>\n",
              "      <td>0</td>\n",
              "      <td>18.37</td>\n",
              "      <td>0</td>\n",
              "      <td>9</td>\n",
              "      <td>14</td>\n",
              "      <td>1</td>\n",
              "      <td>1</td>\n",
              "      <td>0</td>\n",
              "      <td>0</td>\n",
              "      <td>5</td>\n",
              "      <td>0.102941</td>\n",
              "    </tr>\n",
              "    <tr>\n",
              "      <th>1</th>\n",
              "      <td>10000002</td>\n",
              "      <td>30000</td>\n",
              "      <td>4</td>\n",
              "      <td>0</td>\n",
              "      <td>63000.0</td>\n",
              "      <td>1</td>\n",
              "      <td>2</td>\n",
              "      <td>14.93</td>\n",
              "      <td>0</td>\n",
              "      <td>12</td>\n",
              "      <td>24</td>\n",
              "      <td>1</td>\n",
              "      <td>3</td>\n",
              "      <td>2</td>\n",
              "      <td>0</td>\n",
              "      <td>12</td>\n",
              "      <td>0.476190</td>\n",
              "    </tr>\n",
              "    <tr>\n",
              "      <th>2</th>\n",
              "      <td>10000003</td>\n",
              "      <td>24725</td>\n",
              "      <td>7</td>\n",
              "      <td>0</td>\n",
              "      <td>75566.4</td>\n",
              "      <td>2</td>\n",
              "      <td>2</td>\n",
              "      <td>15.88</td>\n",
              "      <td>0</td>\n",
              "      <td>12</td>\n",
              "      <td>16</td>\n",
              "      <td>0</td>\n",
              "      <td>3</td>\n",
              "      <td>2</td>\n",
              "      <td>0</td>\n",
              "      <td>4</td>\n",
              "      <td>0.327196</td>\n",
              "    </tr>\n",
              "    <tr>\n",
              "      <th>3</th>\n",
              "      <td>10000004</td>\n",
              "      <td>16000</td>\n",
              "      <td>0</td>\n",
              "      <td>0</td>\n",
              "      <td>56160.0</td>\n",
              "      <td>2</td>\n",
              "      <td>2</td>\n",
              "      <td>14.34</td>\n",
              "      <td>3</td>\n",
              "      <td>16</td>\n",
              "      <td>22</td>\n",
              "      <td>0</td>\n",
              "      <td>3</td>\n",
              "      <td>1</td>\n",
              "      <td>0</td>\n",
              "      <td>6</td>\n",
              "      <td>0.284900</td>\n",
              "    </tr>\n",
              "    <tr>\n",
              "      <th>4</th>\n",
              "      <td>10000005</td>\n",
              "      <td>17000</td>\n",
              "      <td>8</td>\n",
              "      <td>3</td>\n",
              "      <td>96000.0</td>\n",
              "      <td>2</td>\n",
              "      <td>2</td>\n",
              "      <td>22.17</td>\n",
              "      <td>1</td>\n",
              "      <td>19</td>\n",
              "      <td>30</td>\n",
              "      <td>1</td>\n",
              "      <td>1</td>\n",
              "      <td>1</td>\n",
              "      <td>0</td>\n",
              "      <td>11</td>\n",
              "      <td>0.177083</td>\n",
              "    </tr>\n",
              "    <tr>\n",
              "      <th>...</th>\n",
              "      <td>...</td>\n",
              "      <td>...</td>\n",
              "      <td>...</td>\n",
              "      <td>...</td>\n",
              "      <td>...</td>\n",
              "      <td>...</td>\n",
              "      <td>...</td>\n",
              "      <td>...</td>\n",
              "      <td>...</td>\n",
              "      <td>...</td>\n",
              "      <td>...</td>\n",
              "      <td>...</td>\n",
              "      <td>...</td>\n",
              "      <td>...</td>\n",
              "      <td>...</td>\n",
              "      <td>...</td>\n",
              "      <td>...</td>\n",
              "    </tr>\n",
              "    <tr>\n",
              "      <th>164304</th>\n",
              "      <td>10164305</td>\n",
              "      <td>20725</td>\n",
              "      <td>10</td>\n",
              "      <td>4</td>\n",
              "      <td>63000.0</td>\n",
              "      <td>2</td>\n",
              "      <td>1</td>\n",
              "      <td>13.56</td>\n",
              "      <td>0</td>\n",
              "      <td>13</td>\n",
              "      <td>16</td>\n",
              "      <td>0</td>\n",
              "      <td>2</td>\n",
              "      <td>1</td>\n",
              "      <td>0</td>\n",
              "      <td>3</td>\n",
              "      <td>0.328968</td>\n",
              "    </tr>\n",
              "    <tr>\n",
              "      <th>164305</th>\n",
              "      <td>10164306</td>\n",
              "      <td>6000</td>\n",
              "      <td>8</td>\n",
              "      <td>3</td>\n",
              "      <td>63000.0</td>\n",
              "      <td>2</td>\n",
              "      <td>11</td>\n",
              "      <td>9.12</td>\n",
              "      <td>0</td>\n",
              "      <td>13</td>\n",
              "      <td>30</td>\n",
              "      <td>0</td>\n",
              "      <td>2</td>\n",
              "      <td>0</td>\n",
              "      <td>0</td>\n",
              "      <td>17</td>\n",
              "      <td>0.095238</td>\n",
              "    </tr>\n",
              "    <tr>\n",
              "      <th>164306</th>\n",
              "      <td>10164307</td>\n",
              "      <td>20250</td>\n",
              "      <td>10</td>\n",
              "      <td>0</td>\n",
              "      <td>63000.0</td>\n",
              "      <td>1</td>\n",
              "      <td>1</td>\n",
              "      <td>18.17</td>\n",
              "      <td>1</td>\n",
              "      <td>17</td>\n",
              "      <td>30</td>\n",
              "      <td>0</td>\n",
              "      <td>1</td>\n",
              "      <td>1</td>\n",
              "      <td>0</td>\n",
              "      <td>13</td>\n",
              "      <td>0.321429</td>\n",
              "    </tr>\n",
              "    <tr>\n",
              "      <th>164307</th>\n",
              "      <td>10164308</td>\n",
              "      <td>10000</td>\n",
              "      <td>4</td>\n",
              "      <td>4</td>\n",
              "      <td>63000.0</td>\n",
              "      <td>0</td>\n",
              "      <td>6</td>\n",
              "      <td>18.75</td>\n",
              "      <td>1</td>\n",
              "      <td>16</td>\n",
              "      <td>62</td>\n",
              "      <td>1</td>\n",
              "      <td>3</td>\n",
              "      <td>0</td>\n",
              "      <td>0</td>\n",
              "      <td>46</td>\n",
              "      <td>0.158730</td>\n",
              "    </tr>\n",
              "    <tr>\n",
              "      <th>164308</th>\n",
              "      <td>10164309</td>\n",
              "      <td>9250</td>\n",
              "      <td>10</td>\n",
              "      <td>4</td>\n",
              "      <td>63000.0</td>\n",
              "      <td>1</td>\n",
              "      <td>1</td>\n",
              "      <td>19.44</td>\n",
              "      <td>1</td>\n",
              "      <td>5</td>\n",
              "      <td>9</td>\n",
              "      <td>1</td>\n",
              "      <td>2</td>\n",
              "      <td>0</td>\n",
              "      <td>0</td>\n",
              "      <td>4</td>\n",
              "      <td>0.146825</td>\n",
              "    </tr>\n",
              "  </tbody>\n",
              "</table>\n",
              "<p>164309 rows × 17 columns</p>\n",
              "</div>\n",
              "      <button class=\"colab-df-convert\" onclick=\"convertToInteractive('df-e80d56bc-9805-4627-b8a2-a91b6fd74a31')\"\n",
              "              title=\"Convert this dataframe to an interactive table.\"\n",
              "              style=\"display:none;\">\n",
              "        \n",
              "  <svg xmlns=\"http://www.w3.org/2000/svg\" height=\"24px\"viewBox=\"0 0 24 24\"\n",
              "       width=\"24px\">\n",
              "    <path d=\"M0 0h24v24H0V0z\" fill=\"none\"/>\n",
              "    <path d=\"M18.56 5.44l.94 2.06.94-2.06 2.06-.94-2.06-.94-.94-2.06-.94 2.06-2.06.94zm-11 1L8.5 8.5l.94-2.06 2.06-.94-2.06-.94L8.5 2.5l-.94 2.06-2.06.94zm10 10l.94 2.06.94-2.06 2.06-.94-2.06-.94-.94-2.06-.94 2.06-2.06.94z\"/><path d=\"M17.41 7.96l-1.37-1.37c-.4-.4-.92-.59-1.43-.59-.52 0-1.04.2-1.43.59L10.3 9.45l-7.72 7.72c-.78.78-.78 2.05 0 2.83L4 21.41c.39.39.9.59 1.41.59.51 0 1.02-.2 1.41-.59l7.78-7.78 2.81-2.81c.8-.78.8-2.07 0-2.86zM5.41 20L4 18.59l7.72-7.72 1.47 1.35L5.41 20z\"/>\n",
              "  </svg>\n",
              "      </button>\n",
              "      \n",
              "  <style>\n",
              "    .colab-df-container {\n",
              "      display:flex;\n",
              "      flex-wrap:wrap;\n",
              "      gap: 12px;\n",
              "    }\n",
              "\n",
              "    .colab-df-convert {\n",
              "      background-color: #E8F0FE;\n",
              "      border: none;\n",
              "      border-radius: 50%;\n",
              "      cursor: pointer;\n",
              "      display: none;\n",
              "      fill: #1967D2;\n",
              "      height: 32px;\n",
              "      padding: 0 0 0 0;\n",
              "      width: 32px;\n",
              "    }\n",
              "\n",
              "    .colab-df-convert:hover {\n",
              "      background-color: #E2EBFA;\n",
              "      box-shadow: 0px 1px 2px rgba(60, 64, 67, 0.3), 0px 1px 3px 1px rgba(60, 64, 67, 0.15);\n",
              "      fill: #174EA6;\n",
              "    }\n",
              "\n",
              "    [theme=dark] .colab-df-convert {\n",
              "      background-color: #3B4455;\n",
              "      fill: #D2E3FC;\n",
              "    }\n",
              "\n",
              "    [theme=dark] .colab-df-convert:hover {\n",
              "      background-color: #434B5C;\n",
              "      box-shadow: 0px 1px 3px 1px rgba(0, 0, 0, 0.15);\n",
              "      filter: drop-shadow(0px 1px 2px rgba(0, 0, 0, 0.3));\n",
              "      fill: #FFFFFF;\n",
              "    }\n",
              "  </style>\n",
              "\n",
              "      <script>\n",
              "        const buttonEl =\n",
              "          document.querySelector('#df-e80d56bc-9805-4627-b8a2-a91b6fd74a31 button.colab-df-convert');\n",
              "        buttonEl.style.display =\n",
              "          google.colab.kernel.accessAllowed ? 'block' : 'none';\n",
              "\n",
              "        async function convertToInteractive(key) {\n",
              "          const element = document.querySelector('#df-e80d56bc-9805-4627-b8a2-a91b6fd74a31');\n",
              "          const dataTable =\n",
              "            await google.colab.kernel.invokeFunction('convertToInteractive',\n",
              "                                                     [key], {});\n",
              "          if (!dataTable) return;\n",
              "\n",
              "          const docLinkHtml = 'Like what you see? Visit the ' +\n",
              "            '<a target=\"_blank\" href=https://colab.research.google.com/notebooks/data_table.ipynb>data table notebook</a>'\n",
              "            + ' to learn more about interactive tables.';\n",
              "          element.innerHTML = '';\n",
              "          dataTable['output_type'] = 'display_data';\n",
              "          await google.colab.output.renderOutput(dataTable, element);\n",
              "          const docLink = document.createElement('div');\n",
              "          docLink.innerHTML = docLinkHtml;\n",
              "          element.appendChild(docLink);\n",
              "        }\n",
              "      </script>\n",
              "    </div>\n",
              "  </div>\n",
              "  "
            ],
            "text/plain": [
              "         Loan_ID  ...  Number_Years_To_Repay_Debt\n",
              "0       10000001  ...                    0.102941\n",
              "1       10000002  ...                    0.476190\n",
              "2       10000003  ...                    0.327196\n",
              "3       10000004  ...                    0.284900\n",
              "4       10000005  ...                    0.177083\n",
              "...          ...  ...                         ...\n",
              "164304  10164305  ...                    0.328968\n",
              "164305  10164306  ...                    0.095238\n",
              "164306  10164307  ...                    0.321429\n",
              "164307  10164308  ...                    0.158730\n",
              "164308  10164309  ...                    0.146825\n",
              "\n",
              "[164309 rows x 17 columns]"
            ]
          },
          "metadata": {},
          "execution_count": 313
        }
      ]
    },
    {
      "cell_type": "code",
      "source": [
        "data2=data.drop([\"Total_Accounts\",\"Number_Open_Accounts\",\"Loan_Amount_Requested\",\"Annual_Income\"],axis=1)"
      ],
      "metadata": {
        "id": "qodlQmtSSagR"
      },
      "execution_count": null,
      "outputs": []
    },
    {
      "cell_type": "code",
      "source": [
        "sns.heatmap(data.corr())"
      ],
      "metadata": {
        "colab": {
          "base_uri": "https://localhost:8080/",
          "height": 428
        },
        "id": "RULJZCZ2G-br",
        "outputId": "f02209c0-eead-41bc-99fa-3ba843b5fc5a"
      },
      "execution_count": null,
      "outputs": [
        {
          "output_type": "execute_result",
          "data": {
            "text/plain": [
              "<matplotlib.axes._subplots.AxesSubplot at 0x7f7c66f08210>"
            ]
          },
          "metadata": {},
          "execution_count": 314
        },
        {
          "output_type": "display_data",
          "data": {
            "image/png": "[encoded data removed]",
            "text/plain": [
              "<Figure size 432x288 with 2 Axes>"
            ]
          },
          "metadata": {
            "needs_background": "light"
          }
        }
      ]
    },
    {
      "cell_type": "code",
      "source": [
        "trains = data[data['Interest_Rate'].isna() == False] \n",
        "tests = data[data['Interest_Rate'].isna() == True]"
      ],
      "metadata": {
        "id": "mXqwLtAaHSGq"
      },
      "execution_count": null,
      "outputs": []
    },
    {
      "cell_type": "markdown",
      "source": [
        "# **Insights from Data**"
      ],
      "metadata": {
        "id": "wLrz21IBHt3j"
      }
    },
    {
      "cell_type": "code",
      "source": [
        "trains.groupby('Length_Employed')['Loan_Amount_Requested'].agg(['count','min','max','mean','median','std'])"
      ],
      "metadata": {
        "colab": {
          "base_uri": "https://localhost:8080/",
          "height": 426
        },
        "id": "zmY_ZKDTHk7q",
        "outputId": "6f6fe8f3-8d2a-43a7-a64b-e6aadfb1684e"
      },
      "execution_count": null,
      "outputs": [
        {
          "output_type": "execute_result",
          "data": {
            "text/html": [
              "\n",
              "  <div id=\"df-a310d5e3-1cdd-49d3-bfc3-0e56494b5bc4\">\n",
              "    <div class=\"colab-df-container\">\n",
              "      <div>\n",
              "<style scoped>\n",
              "    .dataframe tbody tr th:only-of-type {\n",
              "        vertical-align: middle;\n",
              "    }\n",
              "\n",
              "    .dataframe tbody tr th {\n",
              "        vertical-align: top;\n",
              "    }\n",
              "\n",
              "    .dataframe thead th {\n",
              "        text-align: right;\n",
              "    }\n",
              "</style>\n",
              "<table border=\"1\" class=\"dataframe\">\n",
              "  <thead>\n",
              "    <tr style=\"text-align: right;\">\n",
              "      <th></th>\n",
              "      <th>count</th>\n",
              "      <th>min</th>\n",
              "      <th>max</th>\n",
              "      <th>mean</th>\n",
              "      <th>median</th>\n",
              "      <th>std</th>\n",
              "    </tr>\n",
              "    <tr>\n",
              "      <th>Length_Employed</th>\n",
              "      <th></th>\n",
              "      <th></th>\n",
              "      <th></th>\n",
              "      <th></th>\n",
              "      <th></th>\n",
              "      <th></th>\n",
              "    </tr>\n",
              "  </thead>\n",
              "  <tbody>\n",
              "    <tr>\n",
              "      <th>0</th>\n",
              "      <td>12805</td>\n",
              "      <td>500</td>\n",
              "      <td>35000</td>\n",
              "      <td>13073.049590</td>\n",
              "      <td>11200.0</td>\n",
              "      <td>8065.617881</td>\n",
              "    </tr>\n",
              "    <tr>\n",
              "      <th>1</th>\n",
              "      <td>10422</td>\n",
              "      <td>725</td>\n",
              "      <td>35000</td>\n",
              "      <td>13242.355114</td>\n",
              "      <td>11500.0</td>\n",
              "      <td>7980.595155</td>\n",
              "    </tr>\n",
              "    <tr>\n",
              "      <th>2</th>\n",
              "      <td>14620</td>\n",
              "      <td>800</td>\n",
              "      <td>35000</td>\n",
              "      <td>13592.093023</td>\n",
              "      <td>12000.0</td>\n",
              "      <td>8067.727029</td>\n",
              "    </tr>\n",
              "    <tr>\n",
              "      <th>3</th>\n",
              "      <td>12974</td>\n",
              "      <td>500</td>\n",
              "      <td>35000</td>\n",
              "      <td>13699.460459</td>\n",
              "      <td>12000.0</td>\n",
              "      <td>8011.624766</td>\n",
              "    </tr>\n",
              "    <tr>\n",
              "      <th>4</th>\n",
              "      <td>9784</td>\n",
              "      <td>900</td>\n",
              "      <td>35000</td>\n",
              "      <td>13733.130621</td>\n",
              "      <td>12000.0</td>\n",
              "      <td>7972.669287</td>\n",
              "    </tr>\n",
              "    <tr>\n",
              "      <th>5</th>\n",
              "      <td>10814</td>\n",
              "      <td>1000</td>\n",
              "      <td>35000</td>\n",
              "      <td>13850.906233</td>\n",
              "      <td>12000.0</td>\n",
              "      <td>8043.100489</td>\n",
              "    </tr>\n",
              "    <tr>\n",
              "      <th>6</th>\n",
              "      <td>9094</td>\n",
              "      <td>1000</td>\n",
              "      <td>35000</td>\n",
              "      <td>14103.216406</td>\n",
              "      <td>12000.0</td>\n",
              "      <td>8004.244626</td>\n",
              "    </tr>\n",
              "    <tr>\n",
              "      <th>7</th>\n",
              "      <td>9308</td>\n",
              "      <td>1000</td>\n",
              "      <td>35000</td>\n",
              "      <td>14439.637946</td>\n",
              "      <td>12762.5</td>\n",
              "      <td>8068.943753</td>\n",
              "    </tr>\n",
              "    <tr>\n",
              "      <th>8</th>\n",
              "      <td>7917</td>\n",
              "      <td>1000</td>\n",
              "      <td>35000</td>\n",
              "      <td>14517.361374</td>\n",
              "      <td>12975.0</td>\n",
              "      <td>8135.982141</td>\n",
              "    </tr>\n",
              "    <tr>\n",
              "      <th>9</th>\n",
              "      <td>6285</td>\n",
              "      <td>1000</td>\n",
              "      <td>35000</td>\n",
              "      <td>14850.688146</td>\n",
              "      <td>13475.0</td>\n",
              "      <td>8117.239122</td>\n",
              "    </tr>\n",
              "    <tr>\n",
              "      <th>10</th>\n",
              "      <td>60286</td>\n",
              "      <td>1000</td>\n",
              "      <td>35000</td>\n",
              "      <td>15273.559367</td>\n",
              "      <td>14000.0</td>\n",
              "      <td>8575.353980</td>\n",
              "    </tr>\n",
              "  </tbody>\n",
              "</table>\n",
              "</div>\n",
              "      <button class=\"colab-df-convert\" onclick=\"convertToInteractive('df-a310d5e3-1cdd-49d3-bfc3-0e56494b5bc4')\"\n",
              "              title=\"Convert this dataframe to an interactive table.\"\n",
              "              style=\"display:none;\">\n",
              "        \n",
              "  <svg xmlns=\"http://www.w3.org/2000/svg\" height=\"24px\"viewBox=\"0 0 24 24\"\n",
              "       width=\"24px\">\n",
              "    <path d=\"M0 0h24v24H0V0z\" fill=\"none\"/>\n",
              "    <path d=\"M18.56 5.44l.94 2.06.94-2.06 2.06-.94-2.06-.94-.94-2.06-.94 2.06-2.06.94zm-11 1L8.5 8.5l.94-2.06 2.06-.94-2.06-.94L8.5 2.5l-.94 2.06-2.06.94zm10 10l.94 2.06.94-2.06 2.06-.94-2.06-.94-.94-2.06-.94 2.06-2.06.94z\"/><path d=\"M17.41 7.96l-1.37-1.37c-.4-.4-.92-.59-1.43-.59-.52 0-1.04.2-1.43.59L10.3 9.45l-7.72 7.72c-.78.78-.78 2.05 0 2.83L4 21.41c.39.39.9.59 1.41.59.51 0 1.02-.2 1.41-.59l7.78-7.78 2.81-2.81c.8-.78.8-2.07 0-2.86zM5.41 20L4 18.59l7.72-7.72 1.47 1.35L5.41 20z\"/>\n",
              "  </svg>\n",
              "      </button>\n",
              "      \n",
              "  <style>\n",
              "    .colab-df-container {\n",
              "      display:flex;\n",
              "      flex-wrap:wrap;\n",
              "      gap: 12px;\n",
              "    }\n",
              "\n",
              "    .colab-df-convert {\n",
              "      background-color: #E8F0FE;\n",
              "      border: none;\n",
              "      border-radius: 50%;\n",
              "      cursor: pointer;\n",
              "      display: none;\n",
              "      fill: #1967D2;\n",
              "      height: 32px;\n",
              "      padding: 0 0 0 0;\n",
              "      width: 32px;\n",
              "    }\n",
              "\n",
              "    .colab-df-convert:hover {\n",
              "      background-color: #E2EBFA;\n",
              "      box-shadow: 0px 1px 2px rgba(60, 64, 67, 0.3), 0px 1px 3px 1px rgba(60, 64, 67, 0.15);\n",
              "      fill: #174EA6;\n",
              "    }\n",
              "\n",
              "    [theme=dark] .colab-df-convert {\n",
              "      background-color: #3B4455;\n",
              "      fill: #D2E3FC;\n",
              "    }\n",
              "\n",
              "    [theme=dark] .colab-df-convert:hover {\n",
              "      background-color: #434B5C;\n",
              "      box-shadow: 0px 1px 3px 1px rgba(0, 0, 0, 0.15);\n",
              "      filter: drop-shadow(0px 1px 2px rgba(0, 0, 0, 0.3));\n",
              "      fill: #FFFFFF;\n",
              "    }\n",
              "  </style>\n",
              "\n",
              "      <script>\n",
              "        const buttonEl =\n",
              "          document.querySelector('#df-a310d5e3-1cdd-49d3-bfc3-0e56494b5bc4 button.colab-df-convert');\n",
              "        buttonEl.style.display =\n",
              "          google.colab.kernel.accessAllowed ? 'block' : 'none';\n",
              "\n",
              "        async function convertToInteractive(key) {\n",
              "          const element = document.querySelector('#df-a310d5e3-1cdd-49d3-bfc3-0e56494b5bc4');\n",
              "          const dataTable =\n",
              "            await google.colab.kernel.invokeFunction('convertToInteractive',\n",
              "                                                     [key], {});\n",
              "          if (!dataTable) return;\n",
              "\n",
              "          const docLinkHtml = 'Like what you see? Visit the ' +\n",
              "            '<a target=\"_blank\" href=https://colab.research.google.com/notebooks/data_table.ipynb>data table notebook</a>'\n",
              "            + ' to learn more about interactive tables.';\n",
              "          element.innerHTML = '';\n",
              "          dataTable['output_type'] = 'display_data';\n",
              "          await google.colab.output.renderOutput(dataTable, element);\n",
              "          const docLink = document.createElement('div');\n",
              "          docLink.innerHTML = docLinkHtml;\n",
              "          element.appendChild(docLink);\n",
              "        }\n",
              "      </script>\n",
              "    </div>\n",
              "  </div>\n",
              "  "
            ],
            "text/plain": [
              "                 count   min    max          mean   median          std\n",
              "Length_Employed                                                        \n",
              "0                12805   500  35000  13073.049590  11200.0  8065.617881\n",
              "1                10422   725  35000  13242.355114  11500.0  7980.595155\n",
              "2                14620   800  35000  13592.093023  12000.0  8067.727029\n",
              "3                12974   500  35000  13699.460459  12000.0  8011.624766\n",
              "4                 9784   900  35000  13733.130621  12000.0  7972.669287\n",
              "5                10814  1000  35000  13850.906233  12000.0  8043.100489\n",
              "6                 9094  1000  35000  14103.216406  12000.0  8004.244626\n",
              "7                 9308  1000  35000  14439.637946  12762.5  8068.943753\n",
              "8                 7917  1000  35000  14517.361374  12975.0  8135.982141\n",
              "9                 6285  1000  35000  14850.688146  13475.0  8117.239122\n",
              "10               60286  1000  35000  15273.559367  14000.0  8575.353980"
            ]
          },
          "metadata": {},
          "execution_count": 318
        }
      ]
    },
    {
      "cell_type": "markdown",
      "source": [
        "1. Average Loan Amount Requested is maximum for people with 10+ years of experience.\n",
        "2. Mean Loan_Amount_Requested is minimum for people with <1 year of being employed."
      ],
      "metadata": {
        "id": "P6ghkOcZILzf"
      }
    },
    {
      "cell_type": "code",
      "source": [
        "trains.groupby('Home_Owner')['Loan_Amount_Requested'].agg(['count','min','max','mean','median','std'])"
      ],
      "metadata": {
        "colab": {
          "base_uri": "https://localhost:8080/",
          "height": 238
        },
        "id": "TXSJ1fwhIRad",
        "outputId": "35abb4b2-6826-4f71-b41a-31825ecda685"
      },
      "execution_count": null,
      "outputs": [
        {
          "output_type": "execute_result",
          "data": {
            "text/html": [
              "\n",
              "  <div id=\"df-be63d9a7-5a71-4a21-829e-7e94c92dc3bc\">\n",
              "    <div class=\"colab-df-container\">\n",
              "      <div>\n",
              "<style scoped>\n",
              "    .dataframe tbody tr th:only-of-type {\n",
              "        vertical-align: middle;\n",
              "    }\n",
              "\n",
              "    .dataframe tbody tr th {\n",
              "        vertical-align: top;\n",
              "    }\n",
              "\n",
              "    .dataframe thead th {\n",
              "        text-align: right;\n",
              "    }\n",
              "</style>\n",
              "<table border=\"1\" class=\"dataframe\">\n",
              "  <thead>\n",
              "    <tr style=\"text-align: right;\">\n",
              "      <th></th>\n",
              "      <th>count</th>\n",
              "      <th>min</th>\n",
              "      <th>max</th>\n",
              "      <th>mean</th>\n",
              "      <th>median</th>\n",
              "      <th>std</th>\n",
              "    </tr>\n",
              "    <tr>\n",
              "      <th>Home_Owner</th>\n",
              "      <th></th>\n",
              "      <th></th>\n",
              "      <th></th>\n",
              "      <th></th>\n",
              "      <th></th>\n",
              "      <th></th>\n",
              "    </tr>\n",
              "  </thead>\n",
              "  <tbody>\n",
              "    <tr>\n",
              "      <th>0</th>\n",
              "      <td>95694</td>\n",
              "      <td>500</td>\n",
              "      <td>35000</td>\n",
              "      <td>15569.770832</td>\n",
              "      <td>14500.0</td>\n",
              "      <td>8555.801557</td>\n",
              "    </tr>\n",
              "    <tr>\n",
              "      <th>1</th>\n",
              "      <td>10</td>\n",
              "      <td>2800</td>\n",
              "      <td>15000</td>\n",
              "      <td>9420.000000</td>\n",
              "      <td>10375.0</td>\n",
              "      <td>3766.533921</td>\n",
              "    </tr>\n",
              "    <tr>\n",
              "      <th>2</th>\n",
              "      <td>49</td>\n",
              "      <td>1000</td>\n",
              "      <td>35000</td>\n",
              "      <td>10642.857143</td>\n",
              "      <td>10000.0</td>\n",
              "      <td>6569.131570</td>\n",
              "    </tr>\n",
              "    <tr>\n",
              "      <th>3</th>\n",
              "      <td>12525</td>\n",
              "      <td>900</td>\n",
              "      <td>35000</td>\n",
              "      <td>13567.704591</td>\n",
              "      <td>12000.0</td>\n",
              "      <td>8135.510763</td>\n",
              "    </tr>\n",
              "    <tr>\n",
              "      <th>4</th>\n",
              "      <td>56031</td>\n",
              "      <td>500</td>\n",
              "      <td>35000</td>\n",
              "      <td>12443.831986</td>\n",
              "      <td>10625.0</td>\n",
              "      <td>7413.272921</td>\n",
              "    </tr>\n",
              "  </tbody>\n",
              "</table>\n",
              "</div>\n",
              "      <button class=\"colab-df-convert\" onclick=\"convertToInteractive('df-be63d9a7-5a71-4a21-829e-7e94c92dc3bc')\"\n",
              "              title=\"Convert this dataframe to an interactive table.\"\n",
              "              style=\"display:none;\">\n",
              "        \n",
              "  <svg xmlns=\"http://www.w3.org/2000/svg\" height=\"24px\"viewBox=\"0 0 24 24\"\n",
              "       width=\"24px\">\n",
              "    <path d=\"M0 0h24v24H0V0z\" fill=\"none\"/>\n",
              "    <path d=\"M18.56 5.44l.94 2.06.94-2.06 2.06-.94-2.06-.94-.94-2.06-.94 2.06-2.06.94zm-11 1L8.5 8.5l.94-2.06 2.06-.94-2.06-.94L8.5 2.5l-.94 2.06-2.06.94zm10 10l.94 2.06.94-2.06 2.06-.94-2.06-.94-.94-2.06-.94 2.06-2.06.94z\"/><path d=\"M17.41 7.96l-1.37-1.37c-.4-.4-.92-.59-1.43-.59-.52 0-1.04.2-1.43.59L10.3 9.45l-7.72 7.72c-.78.78-.78 2.05 0 2.83L4 21.41c.39.39.9.59 1.41.59.51 0 1.02-.2 1.41-.59l7.78-7.78 2.81-2.81c.8-.78.8-2.07 0-2.86zM5.41 20L4 18.59l7.72-7.72 1.47 1.35L5.41 20z\"/>\n",
              "  </svg>\n",
              "      </button>\n",
              "      \n",
              "  <style>\n",
              "    .colab-df-container {\n",
              "      display:flex;\n",
              "      flex-wrap:wrap;\n",
              "      gap: 12px;\n",
              "    }\n",
              "\n",
              "    .colab-df-convert {\n",
              "      background-color: #E8F0FE;\n",
              "      border: none;\n",
              "      border-radius: 50%;\n",
              "      cursor: pointer;\n",
              "      display: none;\n",
              "      fill: #1967D2;\n",
              "      height: 32px;\n",
              "      padding: 0 0 0 0;\n",
              "      width: 32px;\n",
              "    }\n",
              "\n",
              "    .colab-df-convert:hover {\n",
              "      background-color: #E2EBFA;\n",
              "      box-shadow: 0px 1px 2px rgba(60, 64, 67, 0.3), 0px 1px 3px 1px rgba(60, 64, 67, 0.15);\n",
              "      fill: #174EA6;\n",
              "    }\n",
              "\n",
              "    [theme=dark] .colab-df-convert {\n",
              "      background-color: #3B4455;\n",
              "      fill: #D2E3FC;\n",
              "    }\n",
              "\n",
              "    [theme=dark] .colab-df-convert:hover {\n",
              "      background-color: #434B5C;\n",
              "      box-shadow: 0px 1px 3px 1px rgba(0, 0, 0, 0.15);\n",
              "      filter: drop-shadow(0px 1px 2px rgba(0, 0, 0, 0.3));\n",
              "      fill: #FFFFFF;\n",
              "    }\n",
              "  </style>\n",
              "\n",
              "      <script>\n",
              "        const buttonEl =\n",
              "          document.querySelector('#df-be63d9a7-5a71-4a21-829e-7e94c92dc3bc button.colab-df-convert');\n",
              "        buttonEl.style.display =\n",
              "          google.colab.kernel.accessAllowed ? 'block' : 'none';\n",
              "\n",
              "        async function convertToInteractive(key) {\n",
              "          const element = document.querySelector('#df-be63d9a7-5a71-4a21-829e-7e94c92dc3bc');\n",
              "          const dataTable =\n",
              "            await google.colab.kernel.invokeFunction('convertToInteractive',\n",
              "                                                     [key], {});\n",
              "          if (!dataTable) return;\n",
              "\n",
              "          const docLinkHtml = 'Like what you see? Visit the ' +\n",
              "            '<a target=\"_blank\" href=https://colab.research.google.com/notebooks/data_table.ipynb>data table notebook</a>'\n",
              "            + ' to learn more about interactive tables.';\n",
              "          element.innerHTML = '';\n",
              "          dataTable['output_type'] = 'display_data';\n",
              "          await google.colab.output.renderOutput(dataTable, element);\n",
              "          const docLink = document.createElement('div');\n",
              "          docLink.innerHTML = docLinkHtml;\n",
              "          element.appendChild(docLink);\n",
              "        }\n",
              "      </script>\n",
              "    </div>\n",
              "  </div>\n",
              "  "
            ],
            "text/plain": [
              "            count   min    max          mean   median          std\n",
              "Home_Owner                                                        \n",
              "0           95694   500  35000  15569.770832  14500.0  8555.801557\n",
              "1              10  2800  15000   9420.000000  10375.0  3766.533921\n",
              "2              49  1000  35000  10642.857143  10000.0  6569.131570\n",
              "3           12525   900  35000  13567.704591  12000.0  8135.510763\n",
              "4           56031   500  35000  12443.831986  10625.0  7413.272921"
            ]
          },
          "metadata": {},
          "execution_count": 319
        }
      ]
    },
    {
      "cell_type": "markdown",
      "source": [
        "Average Loan_Amount_Requested is maximum for people with Home_Owner status as Mortgage "
      ],
      "metadata": {
        "id": "wRx0WJPLIXeu"
      }
    },
    {
      "cell_type": "code",
      "source": [
        "trains.groupby('Purpose_Of_Loan')['Loan_Amount_Requested'].agg(['count','min','max','mean','median','std'])"
      ],
      "metadata": {
        "colab": {
          "base_uri": "https://localhost:8080/",
          "height": 520
        },
        "id": "DQHhBfWnIiDZ",
        "outputId": "ebe15239-c3e6-4f18-d5ec-ad23dcbef608"
      },
      "execution_count": null,
      "outputs": [
        {
          "output_type": "execute_result",
          "data": {
            "text/html": [
              "\n",
              "  <div id=\"df-3a65616b-55f9-42ae-b9df-5da1ff252cdb\">\n",
              "    <div class=\"colab-df-container\">\n",
              "      <div>\n",
              "<style scoped>\n",
              "    .dataframe tbody tr th:only-of-type {\n",
              "        vertical-align: middle;\n",
              "    }\n",
              "\n",
              "    .dataframe tbody tr th {\n",
              "        vertical-align: top;\n",
              "    }\n",
              "\n",
              "    .dataframe thead th {\n",
              "        text-align: right;\n",
              "    }\n",
              "</style>\n",
              "<table border=\"1\" class=\"dataframe\">\n",
              "  <thead>\n",
              "    <tr style=\"text-align: right;\">\n",
              "      <th></th>\n",
              "      <th>count</th>\n",
              "      <th>min</th>\n",
              "      <th>max</th>\n",
              "      <th>mean</th>\n",
              "      <th>median</th>\n",
              "      <th>std</th>\n",
              "    </tr>\n",
              "    <tr>\n",
              "      <th>Purpose_Of_Loan</th>\n",
              "      <th></th>\n",
              "      <th></th>\n",
              "      <th></th>\n",
              "      <th></th>\n",
              "      <th></th>\n",
              "      <th></th>\n",
              "    </tr>\n",
              "  </thead>\n",
              "  <tbody>\n",
              "    <tr>\n",
              "      <th>0</th>\n",
              "      <td>1885</td>\n",
              "      <td>1000</td>\n",
              "      <td>35000</td>\n",
              "      <td>8053.806366</td>\n",
              "      <td>6000.0</td>\n",
              "      <td>5608.118313</td>\n",
              "    </tr>\n",
              "    <tr>\n",
              "      <th>1</th>\n",
              "      <td>36684</td>\n",
              "      <td>725</td>\n",
              "      <td>35000</td>\n",
              "      <td>14754.313870</td>\n",
              "      <td>13000.0</td>\n",
              "      <td>7999.013687</td>\n",
              "    </tr>\n",
              "    <tr>\n",
              "      <th>2</th>\n",
              "      <td>97101</td>\n",
              "      <td>800</td>\n",
              "      <td>35000</td>\n",
              "      <td>15148.553568</td>\n",
              "      <td>14000.0</td>\n",
              "      <td>8164.935576</td>\n",
              "    </tr>\n",
              "    <tr>\n",
              "      <th>3</th>\n",
              "      <td>121</td>\n",
              "      <td>1000</td>\n",
              "      <td>25000</td>\n",
              "      <td>7110.123967</td>\n",
              "      <td>6000.0</td>\n",
              "      <td>4871.189300</td>\n",
              "    </tr>\n",
              "    <tr>\n",
              "      <th>4</th>\n",
              "      <td>9269</td>\n",
              "      <td>900</td>\n",
              "      <td>35000</td>\n",
              "      <td>13867.466825</td>\n",
              "      <td>12000.0</td>\n",
              "      <td>8834.936431</td>\n",
              "    </tr>\n",
              "    <tr>\n",
              "      <th>5</th>\n",
              "      <td>773</td>\n",
              "      <td>1000</td>\n",
              "      <td>35000</td>\n",
              "      <td>15042.205692</td>\n",
              "      <td>13475.0</td>\n",
              "      <td>8731.603527</td>\n",
              "    </tr>\n",
              "    <tr>\n",
              "      <th>6</th>\n",
              "      <td>3435</td>\n",
              "      <td>1000</td>\n",
              "      <td>35000</td>\n",
              "      <td>10394.657933</td>\n",
              "      <td>8000.0</td>\n",
              "      <td>7929.416404</td>\n",
              "    </tr>\n",
              "    <tr>\n",
              "      <th>7</th>\n",
              "      <td>1541</td>\n",
              "      <td>1000</td>\n",
              "      <td>35000</td>\n",
              "      <td>8913.854640</td>\n",
              "      <td>6850.0</td>\n",
              "      <td>6923.468955</td>\n",
              "    </tr>\n",
              "    <tr>\n",
              "      <th>8</th>\n",
              "      <td>974</td>\n",
              "      <td>1000</td>\n",
              "      <td>35000</td>\n",
              "      <td>7668.814168</td>\n",
              "      <td>5375.0</td>\n",
              "      <td>6418.661738</td>\n",
              "    </tr>\n",
              "    <tr>\n",
              "      <th>9</th>\n",
              "      <td>8346</td>\n",
              "      <td>500</td>\n",
              "      <td>35000</td>\n",
              "      <td>9635.493051</td>\n",
              "      <td>7662.5</td>\n",
              "      <td>7348.544112</td>\n",
              "    </tr>\n",
              "    <tr>\n",
              "      <th>10</th>\n",
              "      <td>123</td>\n",
              "      <td>1000</td>\n",
              "      <td>35000</td>\n",
              "      <td>10958.130081</td>\n",
              "      <td>10000.0</td>\n",
              "      <td>7810.495970</td>\n",
              "    </tr>\n",
              "    <tr>\n",
              "      <th>11</th>\n",
              "      <td>2392</td>\n",
              "      <td>500</td>\n",
              "      <td>35000</td>\n",
              "      <td>15427.456104</td>\n",
              "      <td>13600.0</td>\n",
              "      <td>9339.397600</td>\n",
              "    </tr>\n",
              "    <tr>\n",
              "      <th>12</th>\n",
              "      <td>837</td>\n",
              "      <td>500</td>\n",
              "      <td>35000</td>\n",
              "      <td>6300.627240</td>\n",
              "      <td>5000.0</td>\n",
              "      <td>5033.519112</td>\n",
              "    </tr>\n",
              "    <tr>\n",
              "      <th>13</th>\n",
              "      <td>828</td>\n",
              "      <td>1000</td>\n",
              "      <td>35000</td>\n",
              "      <td>10239.402174</td>\n",
              "      <td>8500.0</td>\n",
              "      <td>6519.794539</td>\n",
              "    </tr>\n",
              "  </tbody>\n",
              "</table>\n",
              "</div>\n",
              "      <button class=\"colab-df-convert\" onclick=\"convertToInteractive('df-3a65616b-55f9-42ae-b9df-5da1ff252cdb')\"\n",
              "              title=\"Convert this dataframe to an interactive table.\"\n",
              "              style=\"display:none;\">\n",
              "        \n",
              "  <svg xmlns=\"http://www.w3.org/2000/svg\" height=\"24px\"viewBox=\"0 0 24 24\"\n",
              "       width=\"24px\">\n",
              "    <path d=\"M0 0h24v24H0V0z\" fill=\"none\"/>\n",
              "    <path d=\"M18.56 5.44l.94 2.06.94-2.06 2.06-.94-2.06-.94-.94-2.06-.94 2.06-2.06.94zm-11 1L8.5 8.5l.94-2.06 2.06-.94-2.06-.94L8.5 2.5l-.94 2.06-2.06.94zm10 10l.94 2.06.94-2.06 2.06-.94-2.06-.94-.94-2.06-.94 2.06-2.06.94z\"/><path d=\"M17.41 7.96l-1.37-1.37c-.4-.4-.92-.59-1.43-.59-.52 0-1.04.2-1.43.59L10.3 9.45l-7.72 7.72c-.78.78-.78 2.05 0 2.83L4 21.41c.39.39.9.59 1.41.59.51 0 1.02-.2 1.41-.59l7.78-7.78 2.81-2.81c.8-.78.8-2.07 0-2.86zM5.41 20L4 18.59l7.72-7.72 1.47 1.35L5.41 20z\"/>\n",
              "  </svg>\n",
              "      </button>\n",
              "      \n",
              "  <style>\n",
              "    .colab-df-container {\n",
              "      display:flex;\n",
              "      flex-wrap:wrap;\n",
              "      gap: 12px;\n",
              "    }\n",
              "\n",
              "    .colab-df-convert {\n",
              "      background-color: #E8F0FE;\n",
              "      border: none;\n",
              "      border-radius: 50%;\n",
              "      cursor: pointer;\n",
              "      display: none;\n",
              "      fill: #1967D2;\n",
              "      height: 32px;\n",
              "      padding: 0 0 0 0;\n",
              "      width: 32px;\n",
              "    }\n",
              "\n",
              "    .colab-df-convert:hover {\n",
              "      background-color: #E2EBFA;\n",
              "      box-shadow: 0px 1px 2px rgba(60, 64, 67, 0.3), 0px 1px 3px 1px rgba(60, 64, 67, 0.15);\n",
              "      fill: #174EA6;\n",
              "    }\n",
              "\n",
              "    [theme=dark] .colab-df-convert {\n",
              "      background-color: #3B4455;\n",
              "      fill: #D2E3FC;\n",
              "    }\n",
              "\n",
              "    [theme=dark] .colab-df-convert:hover {\n",
              "      background-color: #434B5C;\n",
              "      box-shadow: 0px 1px 3px 1px rgba(0, 0, 0, 0.15);\n",
              "      filter: drop-shadow(0px 1px 2px rgba(0, 0, 0, 0.3));\n",
              "      fill: #FFFFFF;\n",
              "    }\n",
              "  </style>\n",
              "\n",
              "      <script>\n",
              "        const buttonEl =\n",
              "          document.querySelector('#df-3a65616b-55f9-42ae-b9df-5da1ff252cdb button.colab-df-convert');\n",
              "        buttonEl.style.display =\n",
              "          google.colab.kernel.accessAllowed ? 'block' : 'none';\n",
              "\n",
              "        async function convertToInteractive(key) {\n",
              "          const element = document.querySelector('#df-3a65616b-55f9-42ae-b9df-5da1ff252cdb');\n",
              "          const dataTable =\n",
              "            await google.colab.kernel.invokeFunction('convertToInteractive',\n",
              "                                                     [key], {});\n",
              "          if (!dataTable) return;\n",
              "\n",
              "          const docLinkHtml = 'Like what you see? Visit the ' +\n",
              "            '<a target=\"_blank\" href=https://colab.research.google.com/notebooks/data_table.ipynb>data table notebook</a>'\n",
              "            + ' to learn more about interactive tables.';\n",
              "          element.innerHTML = '';\n",
              "          dataTable['output_type'] = 'display_data';\n",
              "          await google.colab.output.renderOutput(dataTable, element);\n",
              "          const docLink = document.createElement('div');\n",
              "          docLink.innerHTML = docLinkHtml;\n",
              "          element.appendChild(docLink);\n",
              "        }\n",
              "      </script>\n",
              "    </div>\n",
              "  </div>\n",
              "  "
            ],
            "text/plain": [
              "                 count   min    max          mean   median          std\n",
              "Purpose_Of_Loan                                                        \n",
              "0                 1885  1000  35000   8053.806366   6000.0  5608.118313\n",
              "1                36684   725  35000  14754.313870  13000.0  7999.013687\n",
              "2                97101   800  35000  15148.553568  14000.0  8164.935576\n",
              "3                  121  1000  25000   7110.123967   6000.0  4871.189300\n",
              "4                 9269   900  35000  13867.466825  12000.0  8834.936431\n",
              "5                  773  1000  35000  15042.205692  13475.0  8731.603527\n",
              "6                 3435  1000  35000  10394.657933   8000.0  7929.416404\n",
              "7                 1541  1000  35000   8913.854640   6850.0  6923.468955\n",
              "8                  974  1000  35000   7668.814168   5375.0  6418.661738\n",
              "9                 8346   500  35000   9635.493051   7662.5  7348.544112\n",
              "10                 123  1000  35000  10958.130081  10000.0  7810.495970\n",
              "11                2392   500  35000  15427.456104  13600.0  9339.397600\n",
              "12                 837   500  35000   6300.627240   5000.0  5033.519112\n",
              "13                 828  1000  35000  10239.402174   8500.0  6519.794539"
            ]
          },
          "metadata": {},
          "execution_count": 320
        }
      ]
    },
    {
      "cell_type": "markdown",
      "source": [
        "1. Average loan amount requested is highest for small business followed by debt_consolidation.\n",
        "2. Average income requested is also high for House loans."
      ],
      "metadata": {
        "id": "q9fBfJalIyee"
      }
    },
    {
      "cell_type": "code",
      "source": [
        "trains.groupby('Interest_Rate')['Loan_Amount_Requested'].agg(['count','min','max','mean','median','std'])"
      ],
      "metadata": {
        "colab": {
          "base_uri": "https://localhost:8080/",
          "height": 174
        },
        "id": "KV6CEmWWI0aC",
        "outputId": "79e40330-dace-4565-ecd4-2b5fbb7f6f30"
      },
      "execution_count": null,
      "outputs": [
        {
          "output_type": "execute_result",
          "data": {
            "text/html": [
              "\n",
              "  <div id=\"df-aa5c5a06-8e1e-465b-bdad-67005aa975b9\">\n",
              "    <div class=\"colab-df-container\">\n",
              "      <div>\n",
              "<style scoped>\n",
              "    .dataframe tbody tr th:only-of-type {\n",
              "        vertical-align: middle;\n",
              "    }\n",
              "\n",
              "    .dataframe tbody tr th {\n",
              "        vertical-align: top;\n",
              "    }\n",
              "\n",
              "    .dataframe thead th {\n",
              "        text-align: right;\n",
              "    }\n",
              "</style>\n",
              "<table border=\"1\" class=\"dataframe\">\n",
              "  <thead>\n",
              "    <tr style=\"text-align: right;\">\n",
              "      <th></th>\n",
              "      <th>count</th>\n",
              "      <th>min</th>\n",
              "      <th>max</th>\n",
              "      <th>mean</th>\n",
              "      <th>median</th>\n",
              "      <th>std</th>\n",
              "    </tr>\n",
              "    <tr>\n",
              "      <th>Interest_Rate</th>\n",
              "      <th></th>\n",
              "      <th></th>\n",
              "      <th></th>\n",
              "      <th></th>\n",
              "      <th></th>\n",
              "      <th></th>\n",
              "    </tr>\n",
              "  </thead>\n",
              "  <tbody>\n",
              "    <tr>\n",
              "      <th>1</th>\n",
              "      <td>33806</td>\n",
              "      <td>500</td>\n",
              "      <td>35000</td>\n",
              "      <td>13351.443531</td>\n",
              "      <td>12000.0</td>\n",
              "      <td>7307.255920</td>\n",
              "    </tr>\n",
              "    <tr>\n",
              "      <th>2</th>\n",
              "      <td>70580</td>\n",
              "      <td>500</td>\n",
              "      <td>35000</td>\n",
              "      <td>13419.251913</td>\n",
              "      <td>12000.0</td>\n",
              "      <td>7759.823178</td>\n",
              "    </tr>\n",
              "    <tr>\n",
              "      <th>3</th>\n",
              "      <td>59923</td>\n",
              "      <td>1000</td>\n",
              "      <td>35000</td>\n",
              "      <td>16007.801679</td>\n",
              "      <td>15000.0</td>\n",
              "      <td>9093.711445</td>\n",
              "    </tr>\n",
              "  </tbody>\n",
              "</table>\n",
              "</div>\n",
              "      <button class=\"colab-df-convert\" onclick=\"convertToInteractive('df-aa5c5a06-8e1e-465b-bdad-67005aa975b9')\"\n",
              "              title=\"Convert this dataframe to an interactive table.\"\n",
              "              style=\"display:none;\">\n",
              "        \n",
              "  <svg xmlns=\"http://www.w3.org/2000/svg\" height=\"24px\"viewBox=\"0 0 24 24\"\n",
              "       width=\"24px\">\n",
              "    <path d=\"M0 0h24v24H0V0z\" fill=\"none\"/>\n",
              "    <path d=\"M18.56 5.44l.94 2.06.94-2.06 2.06-.94-2.06-.94-.94-2.06-.94 2.06-2.06.94zm-11 1L8.5 8.5l.94-2.06 2.06-.94-2.06-.94L8.5 2.5l-.94 2.06-2.06.94zm10 10l.94 2.06.94-2.06 2.06-.94-2.06-.94-.94-2.06-.94 2.06-2.06.94z\"/><path d=\"M17.41 7.96l-1.37-1.37c-.4-.4-.92-.59-1.43-.59-.52 0-1.04.2-1.43.59L10.3 9.45l-7.72 7.72c-.78.78-.78 2.05 0 2.83L4 21.41c.39.39.9.59 1.41.59.51 0 1.02-.2 1.41-.59l7.78-7.78 2.81-2.81c.8-.78.8-2.07 0-2.86zM5.41 20L4 18.59l7.72-7.72 1.47 1.35L5.41 20z\"/>\n",
              "  </svg>\n",
              "      </button>\n",
              "      \n",
              "  <style>\n",
              "    .colab-df-container {\n",
              "      display:flex;\n",
              "      flex-wrap:wrap;\n",
              "      gap: 12px;\n",
              "    }\n",
              "\n",
              "    .colab-df-convert {\n",
              "      background-color: #E8F0FE;\n",
              "      border: none;\n",
              "      border-radius: 50%;\n",
              "      cursor: pointer;\n",
              "      display: none;\n",
              "      fill: #1967D2;\n",
              "      height: 32px;\n",
              "      padding: 0 0 0 0;\n",
              "      width: 32px;\n",
              "    }\n",
              "\n",
              "    .colab-df-convert:hover {\n",
              "      background-color: #E2EBFA;\n",
              "      box-shadow: 0px 1px 2px rgba(60, 64, 67, 0.3), 0px 1px 3px 1px rgba(60, 64, 67, 0.15);\n",
              "      fill: #174EA6;\n",
              "    }\n",
              "\n",
              "    [theme=dark] .colab-df-convert {\n",
              "      background-color: #3B4455;\n",
              "      fill: #D2E3FC;\n",
              "    }\n",
              "\n",
              "    [theme=dark] .colab-df-convert:hover {\n",
              "      background-color: #434B5C;\n",
              "      box-shadow: 0px 1px 3px 1px rgba(0, 0, 0, 0.15);\n",
              "      filter: drop-shadow(0px 1px 2px rgba(0, 0, 0, 0.3));\n",
              "      fill: #FFFFFF;\n",
              "    }\n",
              "  </style>\n",
              "\n",
              "      <script>\n",
              "        const buttonEl =\n",
              "          document.querySelector('#df-aa5c5a06-8e1e-465b-bdad-67005aa975b9 button.colab-df-convert');\n",
              "        buttonEl.style.display =\n",
              "          google.colab.kernel.accessAllowed ? 'block' : 'none';\n",
              "\n",
              "        async function convertToInteractive(key) {\n",
              "          const element = document.querySelector('#df-aa5c5a06-8e1e-465b-bdad-67005aa975b9');\n",
              "          const dataTable =\n",
              "            await google.colab.kernel.invokeFunction('convertToInteractive',\n",
              "                                                     [key], {});\n",
              "          if (!dataTable) return;\n",
              "\n",
              "          const docLinkHtml = 'Like what you see? Visit the ' +\n",
              "            '<a target=\"_blank\" href=https://colab.research.google.com/notebooks/data_table.ipynb>data table notebook</a>'\n",
              "            + ' to learn more about interactive tables.';\n",
              "          element.innerHTML = '';\n",
              "          dataTable['output_type'] = 'display_data';\n",
              "          await google.colab.output.renderOutput(dataTable, element);\n",
              "          const docLink = document.createElement('div');\n",
              "          docLink.innerHTML = docLinkHtml;\n",
              "          element.appendChild(docLink);\n",
              "        }\n",
              "      </script>\n",
              "    </div>\n",
              "  </div>\n",
              "  "
            ],
            "text/plain": [
              "               count   min    max          mean   median          std\n",
              "Interest_Rate                                                        \n",
              "1              33806   500  35000  13351.443531  12000.0  7307.255920\n",
              "2              70580   500  35000  13419.251913  12000.0  7759.823178\n",
              "3              59923  1000  35000  16007.801679  15000.0  9093.711445"
            ]
          },
          "metadata": {},
          "execution_count": 321
        }
      ]
    },
    {
      "cell_type": "markdown",
      "source": [
        "Average Loan Amount seems to be high for Interest Rate category 3 and there is not much between the loan amount for categories 1 and 2."
      ],
      "metadata": {
        "id": "FpGzjYZcI78k"
      }
    },
    {
      "cell_type": "code",
      "source": [
        "trains.groupby('Interest_Rate')['Annual_Income'].agg(['count','min','max','mean','median','std'])"
      ],
      "metadata": {
        "colab": {
          "base_uri": "https://localhost:8080/",
          "height": 174
        },
        "id": "E43WKOu9JDvs",
        "outputId": "97ad0c30-ee3d-4790-ad1b-a3203122274f"
      },
      "execution_count": null,
      "outputs": [
        {
          "output_type": "execute_result",
          "data": {
            "text/html": [
              "\n",
              "  <div id=\"df-02686e06-7347-4fce-a8b0-9cff4f779e17\">\n",
              "    <div class=\"colab-df-container\">\n",
              "      <div>\n",
              "<style scoped>\n",
              "    .dataframe tbody tr th:only-of-type {\n",
              "        vertical-align: middle;\n",
              "    }\n",
              "\n",
              "    .dataframe tbody tr th {\n",
              "        vertical-align: top;\n",
              "    }\n",
              "\n",
              "    .dataframe thead th {\n",
              "        text-align: right;\n",
              "    }\n",
              "</style>\n",
              "<table border=\"1\" class=\"dataframe\">\n",
              "  <thead>\n",
              "    <tr style=\"text-align: right;\">\n",
              "      <th></th>\n",
              "      <th>count</th>\n",
              "      <th>min</th>\n",
              "      <th>max</th>\n",
              "      <th>mean</th>\n",
              "      <th>median</th>\n",
              "      <th>std</th>\n",
              "    </tr>\n",
              "    <tr>\n",
              "      <th>Interest_Rate</th>\n",
              "      <th></th>\n",
              "      <th></th>\n",
              "      <th></th>\n",
              "      <th></th>\n",
              "      <th></th>\n",
              "      <th></th>\n",
              "    </tr>\n",
              "  </thead>\n",
              "  <tbody>\n",
              "    <tr>\n",
              "      <th>1</th>\n",
              "      <td>33806</td>\n",
              "      <td>5000.0</td>\n",
              "      <td>4900000.0</td>\n",
              "      <td>78503.289623</td>\n",
              "      <td>63000.0</td>\n",
              "      <td>56552.869715</td>\n",
              "    </tr>\n",
              "    <tr>\n",
              "      <th>2</th>\n",
              "      <td>70580</td>\n",
              "      <td>4000.0</td>\n",
              "      <td>7141778.0</td>\n",
              "      <td>69936.895009</td>\n",
              "      <td>63000.0</td>\n",
              "      <td>54506.035531</td>\n",
              "    </tr>\n",
              "    <tr>\n",
              "      <th>3</th>\n",
              "      <td>59923</td>\n",
              "      <td>4800.0</td>\n",
              "      <td>7500000.0</td>\n",
              "      <td>70083.414592</td>\n",
              "      <td>63000.0</td>\n",
              "      <td>56309.359278</td>\n",
              "    </tr>\n",
              "  </tbody>\n",
              "</table>\n",
              "</div>\n",
              "      <button class=\"colab-df-convert\" onclick=\"convertToInteractive('df-02686e06-7347-4fce-a8b0-9cff4f779e17')\"\n",
              "              title=\"Convert this dataframe to an interactive table.\"\n",
              "              style=\"display:none;\">\n",
              "        \n",
              "  <svg xmlns=\"http://www.w3.org/2000/svg\" height=\"24px\"viewBox=\"0 0 24 24\"\n",
              "       width=\"24px\">\n",
              "    <path d=\"M0 0h24v24H0V0z\" fill=\"none\"/>\n",
              "    <path d=\"M18.56 5.44l.94 2.06.94-2.06 2.06-.94-2.06-.94-.94-2.06-.94 2.06-2.06.94zm-11 1L8.5 8.5l.94-2.06 2.06-.94-2.06-.94L8.5 2.5l-.94 2.06-2.06.94zm10 10l.94 2.06.94-2.06 2.06-.94-2.06-.94-.94-2.06-.94 2.06-2.06.94z\"/><path d=\"M17.41 7.96l-1.37-1.37c-.4-.4-.92-.59-1.43-.59-.52 0-1.04.2-1.43.59L10.3 9.45l-7.72 7.72c-.78.78-.78 2.05 0 2.83L4 21.41c.39.39.9.59 1.41.59.51 0 1.02-.2 1.41-.59l7.78-7.78 2.81-2.81c.8-.78.8-2.07 0-2.86zM5.41 20L4 18.59l7.72-7.72 1.47 1.35L5.41 20z\"/>\n",
              "  </svg>\n",
              "      </button>\n",
              "      \n",
              "  <style>\n",
              "    .colab-df-container {\n",
              "      display:flex;\n",
              "      flex-wrap:wrap;\n",
              "      gap: 12px;\n",
              "    }\n",
              "\n",
              "    .colab-df-convert {\n",
              "      background-color: #E8F0FE;\n",
              "      border: none;\n",
              "      border-radius: 50%;\n",
              "      cursor: pointer;\n",
              "      display: none;\n",
              "      fill: #1967D2;\n",
              "      height: 32px;\n",
              "      padding: 0 0 0 0;\n",
              "      width: 32px;\n",
              "    }\n",
              "\n",
              "    .colab-df-convert:hover {\n",
              "      background-color: #E2EBFA;\n",
              "      box-shadow: 0px 1px 2px rgba(60, 64, 67, 0.3), 0px 1px 3px 1px rgba(60, 64, 67, 0.15);\n",
              "      fill: #174EA6;\n",
              "    }\n",
              "\n",
              "    [theme=dark] .colab-df-convert {\n",
              "      background-color: #3B4455;\n",
              "      fill: #D2E3FC;\n",
              "    }\n",
              "\n",
              "    [theme=dark] .colab-df-convert:hover {\n",
              "      background-color: #434B5C;\n",
              "      box-shadow: 0px 1px 3px 1px rgba(0, 0, 0, 0.15);\n",
              "      filter: drop-shadow(0px 1px 2px rgba(0, 0, 0, 0.3));\n",
              "      fill: #FFFFFF;\n",
              "    }\n",
              "  </style>\n",
              "\n",
              "      <script>\n",
              "        const buttonEl =\n",
              "          document.querySelector('#df-02686e06-7347-4fce-a8b0-9cff4f779e17 button.colab-df-convert');\n",
              "        buttonEl.style.display =\n",
              "          google.colab.kernel.accessAllowed ? 'block' : 'none';\n",
              "\n",
              "        async function convertToInteractive(key) {\n",
              "          const element = document.querySelector('#df-02686e06-7347-4fce-a8b0-9cff4f779e17');\n",
              "          const dataTable =\n",
              "            await google.colab.kernel.invokeFunction('convertToInteractive',\n",
              "                                                     [key], {});\n",
              "          if (!dataTable) return;\n",
              "\n",
              "          const docLinkHtml = 'Like what you see? Visit the ' +\n",
              "            '<a target=\"_blank\" href=https://colab.research.google.com/notebooks/data_table.ipynb>data table notebook</a>'\n",
              "            + ' to learn more about interactive tables.';\n",
              "          element.innerHTML = '';\n",
              "          dataTable['output_type'] = 'display_data';\n",
              "          await google.colab.output.renderOutput(dataTable, element);\n",
              "          const docLink = document.createElement('div');\n",
              "          docLink.innerHTML = docLinkHtml;\n",
              "          element.appendChild(docLink);\n",
              "        }\n",
              "      </script>\n",
              "    </div>\n",
              "  </div>\n",
              "  "
            ],
            "text/plain": [
              "               count     min        max          mean   median           std\n",
              "Interest_Rate                                                               \n",
              "1              33806  5000.0  4900000.0  78503.289623  63000.0  56552.869715\n",
              "2              70580  4000.0  7141778.0  69936.895009  63000.0  54506.035531\n",
              "3              59923  4800.0  7500000.0  70083.414592  63000.0  56309.359278"
            ]
          },
          "metadata": {},
          "execution_count": 322
        }
      ]
    },
    {
      "cell_type": "markdown",
      "source": [
        "The mean Annual_Income for Interest Rate Category 1 is the highest. And it is almost the same for Interest Rate categories 2 and 3."
      ],
      "metadata": {
        "id": "uMUnTMnTJJdg"
      }
    },
    {
      "cell_type": "markdown",
      "source": [
        "# **Model Building**"
      ],
      "metadata": {
        "id": "2kMYrRpcJR7Z"
      }
    },
    {
      "cell_type": "code",
      "source": [
        "trains.shape"
      ],
      "metadata": {
        "colab": {
          "base_uri": "https://localhost:8080/"
        },
        "id": "lFS3zkTYJPHF",
        "outputId": "e7a18c2a-5b9a-420b-c834-36bcd9f9f32d"
      },
      "execution_count": null,
      "outputs": [
        {
          "output_type": "execute_result",
          "data": {
            "text/plain": [
              "(164309, 17)"
            ]
          },
          "metadata": {},
          "execution_count": 324
        }
      ]
    },
    {
      "cell_type": "code",
      "source": [
        "trains.columns"
      ],
      "metadata": {
        "colab": {
          "base_uri": "https://localhost:8080/"
        },
        "id": "DcTZwhU9Jmx_",
        "outputId": "5eb07767-f538-47a2-e672-2493623ef26b"
      },
      "execution_count": null,
      "outputs": [
        {
          "output_type": "execute_result",
          "data": {
            "text/plain": [
              "Index(['Loan_ID', 'Loan_Amount_Requested', 'Length_Employed', 'Home_Owner',\n",
              "       'Annual_Income', 'Income_Verified', 'Purpose_Of_Loan', 'Debt_To_Income',\n",
              "       'Inquiries_Last_6Mo', 'Number_Open_Accounts', 'Total_Accounts',\n",
              "       'Gender', 'Interest_Rate', 'Loan_label', 'Income_label',\n",
              "       'Number_Invalid_Acc', 'Number_Years_To_Repay_Debt'],\n",
              "      dtype='object')"
            ]
          },
          "metadata": {},
          "execution_count": 325
        }
      ]
    },
    {
      "cell_type": "code",
      "source": [
        "x=trains.drop([\"Loan_ID\",\"Interest_Rate\"],axis=1).values\n",
        "x2=data2.drop([\"Loan_ID\",\"Interest_Rate\"],axis=1).values"
      ],
      "metadata": {
        "id": "EPwDLKvfJZfh"
      },
      "execution_count": null,
      "outputs": []
    },
    {
      "cell_type": "code",
      "source": [
        "y=trains[\"Interest_Rate\"].values\n",
        "y2=data2[\"Interest_Rate\"].values"
      ],
      "metadata": {
        "id": "wMC1IXdzJs7M"
      },
      "execution_count": null,
      "outputs": []
    },
    {
      "cell_type": "code",
      "source": [
        "from sklearn.model_selection import train_test_split, KFold, cross_val_score # to split the data\n",
        "from sklearn.metrics import accuracy_score,confusion_matrix,recall_score,precision_score,log_loss,f1_score"
      ],
      "metadata": {
        "id": "iPasEGvRJ0P6"
      },
      "execution_count": null,
      "outputs": []
    },
    {
      "cell_type": "code",
      "source": [
        "from sklearn.preprocessing import StandardScaler # Preprocessing"
      ],
      "metadata": {
        "id": "ug_wI5XzLw9D"
      },
      "execution_count": null,
      "outputs": []
    },
    {
      "cell_type": "code",
      "source": [
        "from sklearn.linear_model import LogisticRegression\n",
        "from sklearn.ensemble import RandomForestClassifier, BaggingClassifier, AdaBoostClassifier, GradientBoostingClassifier\n",
        "from xgboost import XGBClassifier\n",
        "from sklearn.svm import SVC\n",
        "from sklearn.neighbors import KNeighborsClassifier\n",
        "from sklearn.tree import DecisionTreeClassifier\n",
        "from sklearn.pipeline import Pipeline # Streaming pipelines\n",
        "from sklearn.decomposition import KernelPCA, PCA # Dimensionality reduction\n",
        "from sklearn.feature_selection import SelectFromModel # Dimensionality reduction\n",
        "from sklearn.model_selection import learning_curve, validation_curve, GridSearchCV # Model evaluation"
      ],
      "metadata": {
        "id": "VeGRplPWL2Jc"
      },
      "execution_count": null,
      "outputs": []
    },
    {
      "cell_type": "code",
      "source": [
        "X_train, X_test, y_train, y_test = train_test_split(x, y, test_size=0.33, random_state=3)"
      ],
      "metadata": {
        "id": "2OYKgQx2Mmjw"
      },
      "execution_count": null,
      "outputs": []
    },
    {
      "cell_type": "code",
      "source": [
        "X2_train, X2_test, y2_train, y2_test = train_test_split(x2, y2, test_size=0.33, random_state=3)"
      ],
      "metadata": {
        "id": "imoPlEQ-S40T"
      },
      "execution_count": null,
      "outputs": []
    },
    {
      "cell_type": "markdown",
      "source": [
        "**random forest**"
      ],
      "metadata": {
        "id": "WuYv4LNZd9JZ"
      }
    },
    {
      "cell_type": "code",
      "source": [
        "rf=RandomForestClassifier()\n",
        "rf.fit(X_train,y_train)\n",
        "confusion_matrix(rf.predict(X_test),y_test)"
      ],
      "metadata": {
        "colab": {
          "base_uri": "https://localhost:8080/"
        },
        "id": "6O-_kQ3gNHHr",
        "outputId": "899b85c0-d7ea-4eb1-9467-c390d978d3b6"
      },
      "execution_count": null,
      "outputs": [
        {
          "output_type": "execute_result",
          "data": {
            "text/plain": [
              "array([[ 2367,  2304,   716],\n",
              "       [ 6809, 14059,  8114],\n",
              "       [ 1936,  6962, 10955]])"
            ]
          },
          "metadata": {},
          "execution_count": 346
        }
      ]
    },
    {
      "cell_type": "code",
      "source": [
        "accuracy_score(rf.predict(X_test),y_test)"
      ],
      "metadata": {
        "colab": {
          "base_uri": "https://localhost:8080/"
        },
        "id": "QB9YhfyrTY42",
        "outputId": "21e3fe36-d7b5-4885-b37c-40fb6b0d379d"
      },
      "execution_count": null,
      "outputs": [
        {
          "output_type": "execute_result",
          "data": {
            "text/plain": [
              "0.6049795286046254"
            ]
          },
          "metadata": {},
          "execution_count": 359
        }
      ]
    },
    {
      "cell_type": "code",
      "source": [
        "rf2=RandomForestClassifier()\n",
        "rf2.fit(X2_train,y2_train)\n",
        "confusion_matrix(rf2.predict(X2_test),y2_test)"
      ],
      "metadata": {
        "colab": {
          "base_uri": "https://localhost:8080/"
        },
        "id": "Yr9ABW5FSzFz",
        "outputId": "29cece02-a10d-4754-d2cc-4d313731e7e2"
      },
      "execution_count": null,
      "outputs": [
        {
          "output_type": "execute_result",
          "data": {
            "text/plain": [
              "array([[ 2505,  2770,   989],\n",
              "       [ 6444, 13401,  8002],\n",
              "       [ 2163,  7154, 10794]])"
            ]
          },
          "metadata": {},
          "execution_count": 349
        }
      ]
    },
    {
      "cell_type": "code",
      "source": [
        "accuracy_score(rf2.predict(X2_test),y2_test)"
      ],
      "metadata": {
        "colab": {
          "base_uri": "https://localhost:8080/"
        },
        "id": "pVCP_hpjTdUu",
        "outputId": "5ab70321-3199-4364-8e1e-6870da9752b1"
      },
      "execution_count": null,
      "outputs": [
        {
          "output_type": "execute_result",
          "data": {
            "text/plain": [
              "0.592420050901848"
            ]
          },
          "metadata": {},
          "execution_count": 360
        }
      ]
    },
    {
      "cell_type": "markdown",
      "source": [
        "**xgboost**"
      ],
      "metadata": {
        "id": "OEDPigRzd5NC"
      }
    },
    {
      "cell_type": "code",
      "source": [
        "xgb=XGBClassifier()\n",
        "xgb.fit(X2_train,y2_train)\n",
        "accuracy_score(xgb.predict(X2_test),y2_test)"
      ],
      "metadata": {
        "colab": {
          "base_uri": "https://localhost:8080/"
        },
        "id": "jozWhrIpdeSC",
        "outputId": "e148b591-12fb-439a-bc05-835790e33ba7"
      },
      "execution_count": null,
      "outputs": [
        {
          "output_type": "execute_result",
          "data": {
            "text/plain": [
              "0.618534912028328"
            ]
          },
          "metadata": {},
          "execution_count": 364
        }
      ]
    },
    {
      "cell_type": "code",
      "source": [
        "# kfold = KFold(n_splits=7)\n",
        "# cv_results = cross_val_score(rf, X_train, y_train, cv= kfold,scoring=\"balanced_accuracy\", n_jobs=-1)   "
      ],
      "metadata": {
        "id": "eUECzgJvVXqA"
      },
      "execution_count": null,
      "outputs": []
    },
    {
      "cell_type": "code",
      "source": [
        "# cv_results.mean()"
      ],
      "metadata": {
        "id": "4AquJrCNWicl"
      },
      "execution_count": null,
      "outputs": []
    }
  ]
}